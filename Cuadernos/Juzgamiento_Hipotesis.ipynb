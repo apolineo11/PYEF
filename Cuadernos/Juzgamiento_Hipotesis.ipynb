{
 "cells": [
  {
   "cell_type": "markdown",
   "metadata": {
    "id": "l7dsoTp5jx9i"
   },
   "source": [
    "# PRUEBAS DE HIPÓTESIS\n",
    "\n",
    "Una prueba de hipótesis en estadística es un procedimiento formal para evaluar una afirmación sobre una población, basándose en datos muestrales. Se usa para determinar si hay suficiente evidencia en los datos para rechazar una hipótesis específica."
   ]
  },
  {
   "cell_type": "markdown",
   "metadata": {
    "id": "75c-BADWVX4L"
   },
   "source": [
    "\n",
    "\n",
    "# Sección 1: Conceptos iniciales\n",
    "\n",
    "# Hipótesis\n",
    "Una hipótesis es una afirmación o suposición sobre una población que se busca probar utilizando datos muestrales.\n",
    " Se dividen en:\n",
    " - **Hipótesis nula ($H_0$):** Representa la afirmación que queremos poner a prueba. Suele establecer que no hay efecto o diferencia significativa. Se asume como verdadera hasta que se demuestre lo contrario.\n",
    " - **Hipótesis alternativa ($H_1$ o $H_a$):** Es la hipótesis que se desea demostrar y suele representar la existencia de un efecto o diferencia.\n",
    "\n",
    "#### Ejemplo:\n",
    "Supongamos que queremos verificar si un nuevo medicamento reduce la presión arterial.\n",
    "- $H_0$: El medicamento no tiene efecto sobre la presión arterial\n",
    "- $H_1$: El medicamento reduce la presión arterial\n",
    "\n",
    "\n"
   ]
  },
  {
   "cell_type": "markdown",
   "metadata": {
    "id": "Vff4Z1h_fbWn"
   },
   "source": [
    "\n",
    "# Errores en Pruebas de Hipótesis\n",
    "Al tomar una decisión basada en una prueba de hipótesis, existen dos posibles errores:\n",
    " - **Error Tipo I:**\n",
    " Rechazamos la hipótesis nula $H_0$ cuando en realidad es verdadera. Es el equivalente a una \"falsa alarma\" porque indica que hay un efecto cuando en realidad no lo hay. Su probabilidad se denota como $\\alpha$ (nivel de significancia). Si fijamos $\\alpha = 0.05$ , significa que aceptamos un $5\\%$ de probabilidad de cometer este error.\n",
    "\n",
    " En términos médicos, sería diagnosticar erróneamente una enfermedad en una persona sana.\n",
    "\n",
    " - **Error Tipo II:**\n",
    " No rechazar la hiótesis nula $H_0$ cuando en realidad es falsa. Puede llamarse \"Falso negativo\" porque no detectamos un efecto que en realidad sí existe. Su probabilidad se denota como $ \\beta $.\n",
    "\n",
    " En medicina, sería no detectar una enfermedad en un paciente enfermo.\n",
    "\n",
    "#### Ejemplo:\n",
    "Si estamos probando si un detector de incendios funciona correctamente:\n",
    "\n",
    "- Un error Tipo I sería que el detector suene cuando no hay fuego.\n",
    "- Un error Tipo II sería que el detector no suene cuando sí hay fuego.\n",
    "\n",
    "\n"
   ]
  },
  {
   "cell_type": "markdown",
   "metadata": {
    "id": "kYeLi2RKhNa1"
   },
   "source": [
    "\n",
    "# Potencia del test\n",
    "La potencia de un test es la probabilidad de rechazar una hipótesis nula $H_{0}$​ cuando una hipótesis alternativa $H_{1}$​ es verdadera. Es decir, mide la capacidad del test para detectar un efecto real cuando dicho efecto existe. Matemáticamente, la potencia se expresa como $1−\\beta$, donde $\\beta$ es la probabilidad de cometer un error de tipo II (no rechazar $H_{0}$​ cuando en realidad $H_{0}$​​ es falsa)\n",
    "\n",
    "Para aumentar la potencia de un test se recomienda\n",
    "\n",
    "1. Aumentar el tamaño de la muestra: Con más datos, es más fácil detectar diferencias reales.\n",
    "2. Reducir la variabilidad de los datos: Disminuir ruido en la medición puede hacer más precisa la prueba.\n",
    "3. Elegir una prueba estadística adecuada: Si los datos no cumplen la normalidad, usar una prueba no paramétrica puede mejorar los resultados.\n",
    "\n"
   ]
  },
  {
   "cell_type": "markdown",
   "metadata": {
    "id": "mdunyFThhQDO"
   },
   "source": [
    "# Test Estadísticos\n",
    " Son procedimientos utilizados para evaluar hipótesis. La selección de la prueba estadística o test depende de varios factores, como la distribución de los datos y el tipo de variable. Pueden clasificarse en:\n",
    "\n",
    " - Paramétricos: Requieren supuestos sobre la distribución de los datos. Por ejemplo, prueba t, ANOVA.\n",
    "\n",
    "- No paramétricos: No requieren supuestos específicos sobre la distribución. Por ejemplo, prueba de Wilcoxon, prueba de Mann-Whitney.\n",
    "\n"
   ]
  },
  {
   "cell_type": "markdown",
   "metadata": {
    "id": "T-JB6owZhR9o"
   },
   "source": [
    "# Estadística de Prueba\n",
    "La estadística de prueba es un valor que se calcula a partir de los datos y se compara con una distribución de referencia para tomar la decisión de rechazar o no la hipótesis nula $H_0$.\n",
    "\n",
    "Cada prueba estadística tiene su propia estadística de prueba, por ejemplo: Prueba t usa la distribución t de Student o la Chi-cuadrado usa la distribución chi-cuadrado.\n",
    "\n"
   ]
  },
  {
   "cell_type": "markdown",
   "metadata": {
    "id": "DgeJ4eQtjSj7"
   },
   "source": [
    "\n",
    "# Valor P\n",
    " Es la probabilidad de obtener un resultado tan extremo o más extremo que el observado en la muestra, bajo la suposición de que $H_0$. es verdadera. El valor p es comparado con el nivel de significancia de la prueba que se establece en un comienzo.\n",
    "\n",
    " - Si $p < \\alpha $, rechazamos $H_0$ y concluimos que hay evidencia suficiente para no rechazar $H_1$.\n",
    " - Si $p \\geq \\alpha $, no rechazamos $H_0$ ya que no hay suficiente evidencia estadística.\n",
    "\n",
    "#### Ejemplo:\n",
    "Si obtenemos p = 0.03 con α = 0.05, rechazamos $H_0$ dado que el resultado es estadísticamente significativo. Si obtenemos p = 0.07 con este mismo nivel de significancia, no rechazamos $H_0$\n",
    "\n",
    "# Valor crítico\n",
    "Es un umbral que se usa para tomar una decisión sobre la hipótesis nula. Se obtiene a partir de una distribución de referencia (como la normal estándar o t de Student) y depende del nivel de significancia (α) establecido. Luego, al igual que el valor p, puede ser empleado para juzgar la hipótesis, se compara la estadística de prueba con el valor crítico.\n",
    "\n",
    "- El valor crítico se usa cuando se compara la estadística de prueba con un umbral predefinido.\n",
    "- El valor p mide directamente la probabilidad de obtener un resultado tan extremo como el observado, dado que H₀ es verdadera."
   ]
  },
  {
   "cell_type": "markdown",
   "metadata": {
    "id": "A3AZZJoDkB-4"
   },
   "source": [
    "# Sección 2:  Procedimiento general de prueba\n",
    "\n",
    "Para cualquier prueba de hipótesis que se desee realizar el procedimiento general será el mismo\n",
    "\n",
    "1. Definición de hipótesis: El proceso comienza cuando un investigador formula una hipótesis sobre la naturaleza de una población. La formulación de esta hipótesis implica claramente la elección entre dos opciones.\n",
    "\n",
    "2. Elección del Nivel de Significancia ($\\alpha$): Representa la probabilidad máxima de cometer un error Tipo I (falso positivo). Los valores comunmente usados son 0.05 o 0.01. Si el costo de cometer un error tipo I es elevado, los valores pequeños de $\\alpha$ son preferibles.\n",
    "\n",
    "3. Selección de la Prueba Estadística: Se determina de acuerdo a la distribución de los datos, el conocimiento previo de sus parámetros poblacionales y la comparación que se desee realizar según el interés del investigador.\n",
    "\n",
    "4. Cálculo de la Estadística de Prueba: Se calcula un valor estadístico a partir de los datos muestrales, este valor se compara con una distribución teórica apropiada que dependerá de la selección de la prueba.\n",
    "\n",
    "5. Obtención del valor critico o valor p\n",
    "6. Decisión e interpretación\n",
    "\n",
    "\n",
    "#### Ejemplo\n",
    "Un productor de cereales listos para comer, afirma que, en promedio, sus paquetes de cereal pesan al menos 16 onzas. La empresa puede verificar esta afirmación recolectando una muestra aleatoria de paquetes de cereal, determinando el peso de cada uno y calculando la media muestral del peso de los paquetes a partir de los datos.  \n",
    "\n",
    "La empresa desea que el peso medio de sus paquetes esté por encima del peso indicado en la etiqueta. Sea $\\mu$ el peso medio poblacional en onzas de cereal por caja. La hipótesis nula sería\n",
    "\n",
    "$$H_0: \\mu \\leq 16$$\n",
    "\n",
    "Mientras que la hipótesis alternativa, que la empresa desea demostrar, es que el peso medio es mayor a 16 onzas\n",
    "\n",
    "$$H_1: \\mu > 16$$\n",
    "\n",
    "Para este problema, se busca evidencia sólida de que el peso medio de los paquetes no es menor ni igual a 16 onzas, sino que es mayor a 16 onzas.  \n",
    "\n"
   ]
  },
  {
   "cell_type": "markdown",
   "metadata": {
    "id": "_hgi6kgGyfcP"
   },
   "source": [
    "## Formas de establecer la hipótesis nula\n",
    "Las pruebas de hipótesis para un parámetro poblacional asumen una de estas tres formas:\n",
    "\n",
    "### 1. Pruebas de una cola:\n",
    "Estas pruebas se utilizan cuando la hipótesis alternativa sugiere una diferencia en una dirección específica (mayor o menor que un valor dado).\n",
    "\n",
    "- Prueba de cola izquierda (menor que): Se aplica cuando queremos comprobar si el valor promedio es menor a un umbral, por ejemplo, si un medicamento reduce la presión arterial.\n",
    "$$\n",
    "H_0: \\mu \\geq \\mu_0\n",
    "$$\n",
    "\n",
    "$$\n",
    "H_1: \\mu < \\mu_0\n",
    "$$\n",
    "\n",
    "- Prueba de cola derecha (mayor que):  Se aplica cuando queremos comprobar si el valor promedio es mayor a un umbral, por ejemplo, si un nuevo fertilizante aumenta el rendimiento de un cultivo.\n",
    "\n",
    "$$\n",
    "H_0: \\mu \\leq \\mu_0\n",
    "$$\n",
    "\n",
    "\n",
    "$$\n",
    "H_1: \\mu > \\mu_0\n",
    "$$\n",
    "\n",
    "\n",
    "### 2. Prueba de dos colas:\n",
    "Se usa cuando la hipótesis alternativa sugiere que la media poblacional es diferente del valor hipotético. Se aplica cuando queremos comprobar si hay una diferencia significativa en cualquier dirección, por ejemplo, si un cambio en el proceso de producción modifica el peso promedio de un producto.\n",
    "\n",
    "$$\n",
    "H_0: \\mu = \\mu_0\n",
    "$$\n",
    "Indica que la media poblacional es igual al valor hipotético $\\mu_0$.\n",
    "\n",
    "$$\n",
    "H_1: \\mu \\neq \\mu_0\n",
    "$$\n",
    "Indica que la media poblacional es diferente (ya sea mayor o menor) al valor hipotético $\\mu_0$.\n",
    "\n",
    "### * Ejercicio propuesto:\n",
    "El gerente de Danvers-Hilton Resort afirma que la cantidad media que gastan los huéspedes en un fin de semana es de $\\$ 600$ o menos. Un miembro del equipo de contadores observó que en los últimos meses habían aumentado tales cantidades. El contador emplea una muestra de cuentas de fin de semana para probar la afirmación del gerente. ¿Qué forma de hipótesis deberá usar para probar la afirmación del gerente?\n",
    "$$\n",
    "\\begin{array}{lll}\n",
    "H_0: \\mu \\geq 600 & H_0: \\mu \\leq 600 & H_0: \\mu=600 \\\\\n",
    "H_{\\mathrm{a}}: \\mu<600 & H_{\\mathrm{a}}: \\mu>600 & H_{\\mathrm{a}}: \\mu \\neq 600\n",
    "\\end{array}\n",
    "$$\n"
   ]
  },
  {
   "cell_type": "markdown",
   "metadata": {
    "id": "XCGXl348RxDh"
   },
   "source": [
    "# Sección 3: Prueba de hipótesis para la media.\n",
    "Se utiliza para evaluar si la media de una población que sigue distribución normal es igual a un valor específico o si hay evidencia suficiente para rechazar esa suposición."
   ]
  },
  {
   "cell_type": "markdown",
   "metadata": {
    "id": "_08cIUxHZTl_"
   },
   "source": [
    "\n",
    "\n",
    "## 1. Varianza poblacional conocida\n",
    " se refiere a aplicaciones en las que se cuenta con datos históricos o con alguna información que permita obtener buenas estimaciones de la desviación estándar poblacional antes de tomar la muestra.\n",
    "  Utilizamos una muestra aleatoria de $n$ observaciones que siguen una distribución normal $x_1, x_2, ..., x_n$ procedentes de una población\n",
    "de media $\\mu$ y de varianza $\\sigma^2$ conocida.\n",
    "\n",
    "Se sabe que si la población de la que se toma la muestra tiene una distribución normal, la distribución muestral de también es normal. Luego, la prueba se basa en la distribución normal estándar. Se emplea la variable aleatoria normal estándar $Z$ como estadístico de prueba para determinar si se desvía lo\n",
    "suficiente del valor hipotético de μ como para justificar el rechazo de la hipótesis nula\n",
    "\n",
    "$$Z = \\frac{\\bar{x} - \\mu_0}{\\sigma / \\sqrt{n}}$$\n",
    "\n",
    "donde:\n",
    "- $\\bar{x}$ es la la media muestral\n",
    "- $\\mu_0$ la media poblacional bajo $H_0$\n",
    "- $\\sigma$ es la desviación estándar poblacional conocida\n",
    "- $n$ el tamaño de muestra\n",
    "\n",
    "Para determinar la región crítica, se compara el valor calculado del estadístico $Z$ con el valor crítico de la distribución normal estándar ($Z_{\\alpha}$):\n",
    "\n",
    "- Prueba bilateral ($H_1: \\mu \\neq \\mu_0$):  \n",
    "    Se rechaza $H_0$ si  \n",
    "    $$|Z| > Z_{\\alpha/2}$$\n",
    "\n",
    "- Prueba unilateral derecha ($H_a: \\mu > \\mu_0$):  \n",
    "    Se rechaza $H_0$ si  \n",
    "    $$ Z > Z_{\\alpha}$$\n",
    "\n",
    "- Prueba unilateral izquierda ($H_a: \\mu < \\mu_0$):  \n",
    "    Se rechaza $H_0$ si  \n",
    "$$ Z < -Z_{\\alpha}$$\n",
    "\n",
    "#### Ejercicio\n",
    "\n",
    "Una empresa afirma que sus baterías tienen una duración promedio de $300$ horas. Queremos verificar si la duración real es menor a ese valor. Para ello, realizamos una prueba de hipótesis con los siguientes datos:\n",
    "\n",
    "\n",
    "Tamaño de la muestra: $n = 40$\n",
    "Media muestral: $\\bar{x} = 290$\n",
    "Desviación estándar poblacional: $\\sigma = 20$\n",
    "Nivel de significancia: $\\alpha = 0.05$\n",
    "\n",
    "\n",
    "Las hipótesis a probar son:\n",
    "\n",
    "-  $H_0: \\mu = 300$ (la duración media es 300 horas).\n",
    "-  $H_1: \\mu < 300$ (la duración media es menor a 300 horas).\n",
    "\n",
    "Dado que la varianza poblacional es conocida, utilizamos la prueba $Z$\n",
    "\n",
    "$$\n",
    "    Z = \\frac{290 - 300}{20 / \\sqrt{40}} = \\frac{-10}{3.16} = -3.16\n",
    "$$\n",
    "\n",
    "Para una prueba unilateral izquierda con $\\alpha = 0.05$, el valor crítico de $Z$ es:\n",
    "\n",
    "$$\n",
    "    Z_{\\alpha} = -1.645\n",
    "$$\n",
    "\n",
    "Veamos que según la regla de decisión:\n",
    "\n",
    "- Si $Z < -1.645$, se rechaza $H_0$.\n",
    "- Si $Z \\geq -1.645$, no se rechaza $H_0$.\n",
    "\n",
    "Como $Z = -3.16$ es menor que $-1.645$, se rechaza la hipótesis nula. Con un nivel de significancia del $5\\%$, hay suficiente evidencia para concluir que la duración media de las baterías es significativamente menor a 300 horas.\n",
    "\n",
    "\n",
    "De la misma manera puede utilizarse el valor p para determinar si se rechaza o no la hipótesis nula. El valor p se determina según el tipo de prueba:\n",
    "\n",
    "- Prueba unilateral izquierda ($H_a: \\mu < \\mu_0$):  \n",
    "$$ p = P(Z \\leq Z_{obs})$$\n",
    "\n",
    "Es decir, el área bajo la curva normal a la izquierda de $Z_{\\text{obs}}$.\n",
    "    \n",
    "- Prueba unilateral derecha ($H_a: \\mu > \\mu_0$):  \n",
    "    $$ p = P(Z \\geq Z_{\\text{obs}}) = 1 - P(Z \\leq Z_{\\text{obs}})$$\n",
    "\n",
    "- Prueba bilateral ($H_a: \\mu \\neq \\mu_0$):  \n",
    "   $$p = 2P(Z \\geq |Z_{\\text{obs}}|)$$\n",
    "\n",
    "Luego,\n",
    "Si $p < \\alpha$, se rechaza la hipótesis nula $H_0$, ya que el resultado es estadísticamente significativo.\n",
    "\n",
    "Dado el ejemplo anterior, $Z = -3.16$. Buscamos en la tabla normal estándar o usamos una función estadística para encontrar:\n",
    "\n",
    "$$\n",
    "P(Z \\leq -3.16) = 0.0008\n",
    "$$\n",
    "\n",
    "Este es el valor p. Como $0.0008 < 0.05$, se rechaza $H_0$ y concluimos que la media es significativamente menor a 300 horas.\n",
    "\n",
    "\n"
   ]
  },
  {
   "cell_type": "code",
   "execution_count": null,
   "metadata": {
    "colab": {
     "base_uri": "https://localhost:8080/"
    },
    "executionInfo": {
     "elapsed": 223,
     "status": "ok",
     "timestamp": 1739314437636,
     "user": {
      "displayName": "Maria Angelica Agudelo Rodriguez",
      "userId": "14150242144259018203"
     },
     "user_tz": 300
    },
    "id": "kotMnJujN5h1",
    "outputId": "4f08ca92-9191-4c0b-aedc-6f9f91901b2a"
   },
   "outputs": [
    {
     "name": "stdout",
     "output_type": "stream",
     "text": [
      "0.0007888456943755722\n"
     ]
    }
   ],
   "source": [
    "import scipy.stats as stats\n",
    "\n",
    "# Estadístico Z\n",
    "Z = -3.16\n",
    "\n",
    "# Calcular el valor p para una prueba unilateral izquierda\n",
    "p_value = stats.norm.cdf(Z)\n",
    "print(p_value)"
   ]
  },
  {
   "cell_type": "markdown",
   "metadata": {
    "id": "GoiilrMlPZr8"
   },
   "source": [
    "En la siguiente tabla se resumen los diferentes casos según la hipótesis planteada\n",
    "\n",
    "| **Hipótesis** | **Prueba de la cola inferior** | **Prueba de la cola superior** | **Prueba de dos colas** |\n",
    "|---------------|--------------------------------|--------------------------------|-------------------------|\n",
    "|               | $$ H_0: \\mu \\geq \\mu_0 $$      | $$ H_0: \\mu \\leq \\mu_0 $$      | $$ H_0: \\mu = \\mu_0 $$  |\n",
    "|               | $$ H_{\\mathrm{a}}: \\mu < \\mu_0 $$ | $$ H_{\\mathrm{a}}: \\mu > \\mu_0 $$ | $$ H_{\\mathrm{a}}: \\mu \\neq \\mu_0 $$ |\n",
    "| **Estadístico de prueba** | $$ z = \\frac{\\bar{x} - \\mu_0}{\\sigma / \\sqrt{n}} $$ | $$ z = \\frac{\\bar{x} - \\mu_0}{\\sigma / \\sqrt{n}} $$ | $$ z = \\frac{\\bar{x} - \\mu_0}{\\sigma / \\sqrt{n}} $$ |\n",
    "| **Regla de rechazo: método del valor-p** | Rechazar si $$ \\text{valor } p \\leq \\alpha $$ | Rechazar si $$ \\text{valor } p \\leq \\alpha $$ | Rechazar  si $$ \\text{valor } p \\leq \\alpha $$ |\n",
    "| **Regla de rechazo: método del valor crítico** | Rechazar  si $$ z \\leq -z_\\alpha $$ | Rechazar  si $$ z \\geq z_\\alpha $$ | Rechazar  si $$ z \\leq -z_{\\alpha / 2} $$ o si $$ z \\geq z_{\\alpha / 2} $$ |\n",
    "\n"
   ]
  },
  {
   "cell_type": "markdown",
   "metadata": {
    "id": "rnA-T7TBR2HS"
   },
   "source": [
    "# 2. Varianza poblacional desconocida\n",
    "\n",
    "La hipótesis de diferencia de medias se establece de la misma manera. Sin embargo, el calculo del estadístico de prueba se realiza como sigue\n",
    "\n",
    "$$t = \\frac{\\bar{X} - \\mu_0}{\\frac{s}{\\sqrt{n}}}$$\n",
    "\n",
    "Donde:\n",
    "\n",
    "- $\\bar{X}$ es la media muestral.\n",
    "- $\\mu_0$ es el valor de la media bajo la hipótesis nula.\n",
    "- $s$ es la desviación estándar muestral.\n",
    "- $n$ es el tamaño de la muestra.\n",
    "\n",
    "Los grados de libertad para esta prueba son calculados como $n-1$\n",
    "\n",
    "#### Ejemplo\n",
    "\n",
    "Supongamos que tenemos una muestra de 25 estudiantes, y queremos probar si la media de sus puntajes en un examen es diferente de 80. La desviación estándar muestral es 10.\n",
    "\n",
    "Definimos la hipótesis:\n",
    "$$\n",
    "H_0: \\mu = 80\n",
    "$$\n",
    "$$\n",
    "H_1: \\mu \\neq 80\n",
    "$$\n",
    "\n",
    "$\\textbf{2. Cálculo del estadístico t:}$\n",
    "Imaginemos que la media muestral es $\\bar{X} = 85$.\n",
    "\n",
    "$$\n",
    "t = \\frac{85 - 80}{\\frac{10}{\\sqrt{25}}} = \\frac{5}{\\frac{10}{5}} = \\frac{5}{2} = 2.5\n",
    "$$\n",
    "\n",
    "\\textbf{3. Cálculo de los grados de libertad:}\n",
    "$$\n",
    "df = 25 - 1 = 24\n",
    "$$\n",
    "\n",
    "\\textbf{4. Valor crítico:}\n",
    "Supongamos que el nivel de significancia es $\\alpha = 0.05$ y la prueba es bilateral. Buscamos el valor crítico $t$ en una tabla de distribución $t$ para 24 grados de libertad y $\\alpha = 0.05$, lo que nos da un valor crítico aproximadamente de $\\pm 2.064$.\n",
    "\n",
    "\\textbf{5. Comparación:}\n",
    "Como $|t| = 2.5$ es mayor que el valor crítico de 2.064, \\textbf{rechazamos la hipótesis nula}.\n",
    "\n",
    "\\textbf{6. Conclusión:}\n",
    "Rechazamos la hipótesis nula, lo que nos lleva a concluir que la media de los puntajes es significativamente diferente de 80.\n",
    "\n",
    "El valor p para este ejemplo, con un estadístico t de 2.5 y 24 grados de libertad en una prueba bilateral, es aproximadamente 0.0197.\n",
    "\n",
    "Dado que el valor p es menor que el nivel de significancia de 0.05, rechazamos la hipótesis nula, lo que significa que hay suficiente evidencia para concluir que la media es significativamente diferente de 80.\n"
   ]
  },
  {
   "cell_type": "code",
   "execution_count": null,
   "metadata": {
    "colab": {
     "base_uri": "https://localhost:8080/"
    },
    "executionInfo": {
     "elapsed": 360,
     "status": "ok",
     "timestamp": 1739317630769,
     "user": {
      "displayName": "Maria Angelica Agudelo Rodriguez",
      "userId": "14150242144259018203"
     },
     "user_tz": 300
    },
    "id": "Hee_hIK0aMSh",
    "outputId": "4384cf5d-16f0-4b03-90cb-74263494eed1"
   },
   "outputs": [
    {
     "data": {
      "text/plain": [
       "0.01965417511657863"
      ]
     },
     "execution_count": 5,
     "metadata": {},
     "output_type": "execute_result"
    }
   ],
   "source": [
    "import scipy.stats as stats\n",
    "\n",
    "# Parámetros del ejemplo\n",
    "t_statistic = 2.5\n",
    "df = 24  # grados de libertad\n",
    "\n",
    "# Cálculo del valor p para una prueba bilateral\n",
    "p_value = 2 * (1 - stats.t.cdf(abs(t_statistic), df))\n",
    "\n",
    "p_value\n"
   ]
  },
  {
   "cell_type": "markdown",
   "metadata": {
    "id": "MUvUf3MfeqdW"
   },
   "source": [
    "La siguiente tabla resume los estadisticos de prueba y regla de rechazo para las diferentes hipótesis\n",
    "\n",
    "|                         | Prueba de la cola inferior                           | Prueba de la cola superior                          | Prueba de dos colas                                    |\n",
    "|-------------------------|------------------------------------------------------|-----------------------------------------------------|--------------------------------------------------------|\n",
    "| **Hipótesis**            | H₀: μ ≥ μ₀ <br> Hₐ: μ < μ₀                          | H₀: μ ≤ μ₀ <br> Hₐ: μ > μ₀                         | H₀: μ = μ₀ <br> Hₐ: μ ≠ μ₀                           |\n",
    "| **Estadístico de prueba**| t = (x̄ - μ₀) / (s / √n)                             | t = (x̄ - μ₀) / (s / √n)                            | t = (x̄ - μ₀) / (s / √n)                               |\n",
    "| **Regla de rechazo: método del valor-p** | Rechazar H₀ si <br> valor-p ≤ α                    | Rechazar H₀ si <br> valor-p ≤ α                      | Rechazar H₀ si <br> valor-p ≤ α                        |\n",
    "| **Regla de rechazo: método del valor crítico** | Rechazar H₀ si <br> t ≤ -tₐ                        | Rechazar H₀ si <br> t ≥ tₐ                           | Rechazar H₀ si <br> t ≤ -tₐ/2 <br> o t ≥ tₐ/2         |\n"
   ]
  },
  {
   "cell_type": "markdown",
   "metadata": {
    "id": "J7Dyy-qkbAUD"
   },
   "source": [
    "# Sección 4: Prueba de hipótesis para la proporción.\n",
    "\n",
    "## 1. Varianza Conocida\n",
    "\n",
    "En este caso, usamos el estadístico z para realizar la prueba.\n",
    "\n",
    "### Hipótesis:\n",
    "- **Hipótesis nula ($H_0$):** La proporción es igual a un valor específico $p_0 $\n",
    "  $$ H_0: p = p_0 $$\n",
    "- **Hipótesis alternativa (H₁):** La proporción es diferente (bilateral) o mayor/menor (unilateral) que $ p_0 $\n",
    "  $$ H_1: p \\neq p_0 $$\n",
    "  $$ H_1: p > p_0 $$\n",
    "  $$ H_1: p < p_0 $$\n",
    "  \n",
    "### Estadístico de prueba:\n",
    "El estadístico **z** se calcula con la siguiente fórmula:\n",
    "$$\n",
    "z = \\frac{\\hat{p} - p_0}{\\sqrt{\\frac{p_0(1 - p_0)}{n}}}\n",
    "$$\n",
    "Donde:\n",
    "- $ \\hat{p} $ es la proporción muestral.\n",
    "- $p_0 $ es la proporción bajo la hipótesis nula.\n",
    "- $ n $ es el tamaño de la muestra.\n",
    "\n",
    " Si el valor calculado de $ z$ es mayor que el valor crítico $ z_{\\alpha/2} $ (para una prueba bilateral), o si está en el lado derecho/izquierdo según el tipo de prueba (unilateral), rechazamos la hipótesis nula.\n",
    "\n",
    "#### Ejemplo\n",
    "Imaginemos que queremos saber si la proporción de estudiantes que aprueban un examen es diferente a un 75%. Los datos que tenemos son los siguientes:\n",
    "\n",
    "- Número total de estudiantes en la muestra $n$: 150\n",
    "- Número de estudiantes que aprobaron el examen: 110\n",
    "- Proporción bajo la hipótesis nula $p_0$: 0.75\n",
    "\n",
    "Establecemos así las hipótesis\n",
    "\n",
    "- **Hipótesis nula (H₀):** La proporción de estudiantes que aprueban es igual a 75%.  \n",
    "  $$ H_0: p = 0.75 $$\n",
    "\n",
    "- **Hipótesis alternativa (H₁):** La proporción de estudiantes que aprueban es diferente a 75%.  \n",
    "  $$ H_1: p \\neq 0.75 $$\n",
    "\n",
    "\n",
    "La proporción muestral $\\hat{p}$ es:\n",
    "$$ \\hat{p} = \\frac{110}{150} = 0.7333 $$\n",
    "\n",
    "Ahora, calculamos el estadístico z utilizando la fórmula:\n",
    "$$\n",
    "z = \\frac{\\hat{p} - p_0}{\\sqrt{\\frac{p_0(1 - p_0)}{n}}} \\approx -0.4714\n",
    "$$\n",
    "\n",
    "Dado que el valor p (0.6374) es mucho mayor que el nivel de significancia no rechazamos la hipótesis nula. Hay suficiente evidencia para afirmar que la proporción de estudiantes que aprueban el examen es diferente al 75%.\n",
    "\n"
   ]
  },
  {
   "cell_type": "code",
   "execution_count": null,
   "metadata": {
    "colab": {
     "base_uri": "https://localhost:8080/"
    },
    "executionInfo": {
     "elapsed": 293,
     "status": "ok",
     "timestamp": 1739318676550,
     "user": {
      "displayName": "Maria Angelica Agudelo Rodriguez",
      "userId": "14150242144259018203"
     },
     "user_tz": 300
    },
    "id": "c8Nsf10dd668",
    "outputId": "8ccc7b95-f325-46bf-bd1a-bd7e2d63d13c"
   },
   "outputs": [
    {
     "data": {
      "text/plain": [
       "0.6373551159848643"
      ]
     },
     "execution_count": 9,
     "metadata": {},
     "output_type": "execute_result"
    }
   ],
   "source": [
    "from scipy.stats import norm\n",
    "z= -0.4714\n",
    "p_value = 2 * (1 - norm.cdf(abs(z)))\n",
    "p_value"
   ]
  },
  {
   "cell_type": "markdown",
   "metadata": {
    "id": "H7fX0STCfmJE"
   },
   "source": [
    "|                         | Prueba de la cola inferior                           | Prueba de la cola superior                          | Prueba de dos colas                                    |\n",
    "|-------------------------|------------------------------------------------------|-----------------------------------------------------|--------------------------------------------------------|\n",
    "| **Hipótesis**            | H₀: p ≥ p₀ <br> Hₐ: p < p₀                          | H₀: p ≤ p₀ <br> Hₐ: p > p₀                         | H₀: p = p₀ <br> Hₐ: p ≠ p₀                           |\n",
    "| **Estadístico de prueba**| z = (p̄ - p₀) / √(p₀(1 - p₀) / n)                  | z = (p̄ - p₀) / √(p₀(1 - p₀) / n)                   | z = (p̄ - p₀) / √(p₀(1 - p₀) / n)                     |\n",
    "| **Regla de rechazo: método del valor-p** | Rechazar H₀ si <br> valor-p ≤ α                    | Rechazar H₀ si <br> valor-p ≤ α                      | Rechazar H₀ si <br> valor-p ≤ α                        |\n",
    "| **Regla de rechazo: método del valor crítico** | Rechazar H₀ si <br> z ≤ -zₐ                        | Rechazar H₀ si <br> z ≥ zₐ                           | Rechazar H₀ si <br> z ≤ -zₐ/2 <br> o z ≥ zₐ/2         |\n"
   ]
  },
  {
   "cell_type": "markdown",
   "metadata": {
    "id": "z_-9KVSaNlCp"
   },
   "source": [
    "# Sección 5: Prueba de hipótesis para la diferencia de medias\n",
    "\n",
    "## 1. Varianza poblacional conocida\n",
    "Se utiliza cuando se quiere comparar las medias de dos poblaciones para determinar si existe una diferencia significativa entre ellas. En este caso, se asume que las varianzas de las dos poblaciones son conocidas.\n",
    "\n",
    "- **Hipótesis nula**: Afirma que no hay diferencia entre las medias de las dos poblaciones. Es decir, la diferencia es igual a cero.\n",
    "  $$\n",
    "  H_0: \\mu_1 - \\mu_2 = 0\n",
    "  $$\n",
    "- **Hipótesis alternativa**: Afirma que hay una diferencia entre las medias. Puede ser de dos tipos:\n",
    "  - **Dos colas** (prueba bilateral): La diferencia puede ser mayor o menor que cero.\n",
    "    $$\n",
    "    H_1: \\mu_1 - \\mu_2 \\neq 0\n",
    "    $$\n",
    "  - **Una cola** (prueba unilateral): La diferencia es solo mayor o menor que cero.\n",
    "    $$\n",
    "    H_1: \\mu_1 - \\mu_2 > 0 \\quad \\text{o} \\quad H_1: \\mu_1 - \\mu_2 < 0\n",
    "    $$\n",
    "\n",
    "Para comparar las medias de las dos poblaciones, se utiliza el estadístico Z, dado que las varianzas son conocidas:\n",
    "$$\n",
    "Z = \\frac{(\\bar{x}_1 - \\bar{x}_2) - (\\mu_1 - \\mu_2)}{\\sqrt{\\frac{\\sigma_1^2}{n_1} + \\frac{\\sigma_2^2}{n_2}}}\n",
    "$$\n",
    "Donde:\n",
    "- $\\bar{x}_1$ y $\\bar{x}_2$ son las medias muestrales.\n",
    "- $\\mu_1$ y $\\mu_2$ son las medias poblacionales bajo la hipótesis nula (usualmente se asume que $\\mu_1 - \\mu_2 = 0$).\n",
    "- $\\sigma_1^2$ y $\\sigma_2^2$ son las varianzas conocidas de las poblaciones.\n",
    "- $n_1$ y $n_2$ son los tamaños muestrales.\n",
    "\n",
    "\n",
    "Dependiendo del nivel de significancia $\\alpha$, se determina el valor crítico $Z_{\\alpha/2}$ para una prueba bilateral o $Z_{\\alpha}$ para una prueba unilateral. Este valor se obtiene a partir de la tabla de distribución normal estándar.\n",
    "\n",
    "- Si el valor absoluto de $Z$ calculado es mayor que el valor crítico, se rechaza la hipótesis nula\n",
    "- Si el valor absoluto de $Z$  calculado es menor que el valor crítico, no se rechaza la hipótesis nula\n",
    "\n",
    "\n",
    "#### Ejemplo\n",
    "\n",
    "Supongamos que estamos comparando los tiempos de respuesta de dos sistemas de software y sabemos que las varianzas de los tiempos de respuesta en ambos sistemas son conocidas. Queremos saber si hay una diferencia significativa entre los tiempos medios de los dos sistemas. Se sabe que $\\bar{x}_1=50$ y $\\bar{x}_2=48$. Además, $\\sigma_1^2=4$ y $\\sigma_2^2=9$. Se toma una muetsra de tamaño n=30 para cada uno\n",
    "\n",
    "- $H_0: \\mu_1 - \\mu_2 = 0$ (no hay diferencia en los tiempos de respuesta medios).\n",
    "- $H_1: \\mu_1 - \\mu_2 \\neq 0$ (hay una diferencia en los tiempos de respuesta medios).\n",
    "\n",
    "Luego, se tiene el estadistico de prueba\n",
    "$$\n",
    "Z = \\frac{50 - 48}{\\sqrt{\\frac{4}{30} + \\frac{9}{30}}}  \\approx 3.04\n",
    "$$\n",
    "\n",
    "Si el nivel de significancia es 0.05 para una prueba bilateral, el valor crítico es $Z_{\\alpha/2} = 1.96$.Luego, Si el valor de $Z$ calculado es mayor que 1.96 o menor que -1.96, se rechaza la hipótesis nula. Como $|3.04| > 1.96$, rechazamos la hipótesis nula ($H_0$). Hay evidencia suficiente para concluir que existe una diferencia significativa entre los tiempos de respuesta de los dos sistemas\n"
   ]
  },
  {
   "cell_type": "code",
   "execution_count": null,
   "metadata": {
    "colab": {
     "base_uri": "https://localhost:8080/"
    },
    "executionInfo": {
     "elapsed": 227,
     "status": "ok",
     "timestamp": 1739319974664,
     "user": {
      "displayName": "Maria Angelica Agudelo Rodriguez",
      "userId": "14150242144259018203"
     },
     "user_tz": 300
    },
    "id": "27YQIsBZjG_I",
    "outputId": "aef77062-7cf6-487f-9b59-8b546c979474"
   },
   "outputs": [
    {
     "data": {
      "text/plain": [
       "0.0023657814862088067"
      ]
     },
     "execution_count": 11,
     "metadata": {},
     "output_type": "execute_result"
    }
   ],
   "source": [
    "from scipy.stats import norm\n",
    "\n",
    "Z = 3.04\n",
    "p_value = 2 * (1 - norm.cdf(abs(Z)))\n",
    "\n",
    "p_value\n"
   ]
  },
  {
   "cell_type": "markdown",
   "metadata": {
    "id": "aOiRDJp5jTOw"
   },
   "source": [
    "## 2. Varianza desconocida\n",
    "\n",
    "# Prueba de Hipótesis para la Diferencia de Medias con Varianzas Desconocidas\n",
    "\n",
    "Cuando las varianzas de las dos poblaciones son desconocidas, utilizamos la distribución t de Student en lugar de la distribución normal (Z).\n",
    "\n",
    "- **Hipótesis nula ($H_0$):** No hay diferencia entre las medias de las dos poblaciones.\n",
    "  \n",
    "  $$\n",
    "  H_0: \\mu_1 - \\mu_2 = 0\n",
    "  $$\n",
    "\n",
    "- **Hipótesis alternativa ($H_1$):** Existen diferencias entre las medias de las poblaciones. Puede ser:\n",
    "  - Prueba bilateral (dos colas):\n",
    "    \n",
    "    $$\n",
    "    H_1: \\mu_1 - \\mu_2 \\neq 0\n",
    "    $$\n",
    "  - Prueba unilateral (una cola):\n",
    "    \n",
    "    $$\n",
    "    H_1: \\mu_1 - \\mu_2 > 0 \\quad \\text{o} \\quad H_1: \\mu_1 - \\mu_2 < 0\n",
    "    $$\n",
    "\n",
    "El estadístico de prueba t se calcula como:\n",
    "\n",
    "$$\n",
    "t = \\frac{(\\bar{x}_1 - \\bar{x}_2)- D_O}{\\sqrt{\\frac{s_1^2}{n_1} + \\frac{s_2^2}{n_2}}}\n",
    "$$\n",
    "\n",
    "Donde:\n",
    "\n",
    "- $ \\bar{x}_1 $ y $ \\bar{x}_2 $ son las medias muestrales.\n",
    "- $ s_1^2 $ y $ s_2^2 $ son las varianzas muestrales de las dos muestras.\n",
    "- $ n_1 $ y $ n_2 $ son los tamaños de las muestras.\n",
    "- $D_0$ es la diferencia hipotética entre las medias.\n",
    "\n",
    "\n",
    "Los grados de libertad se calculan como sigue\n",
    "\n",
    "$$\n",
    "df = \\frac{\\left(\\frac{s_1^2}{n_1} + \\frac{s_2^2}{n_2}\\right)^2}{\\frac{\\left(\\frac{s_1^2}{n_1}\\right)^2}{n_1 - 1} + \\frac{\\left(\\frac{s_2^2}{n_2}\\right)^2}{n_2 - 1}}\n",
    "$$\n",
    "\n",
    "Este método es útil cuando las varianzas de las muestras son diferentes. Si las varianzas son similares, se pueden calcular los grados de libertad de manera más simple usando $ df = n_1 + n_2 - 2 $.\n",
    "\n",
    "Para determinar el Valor Crítico, se consulta la tabla de la distribución t de Student\n",
    "\n",
    "- **Prueba bilateral:** se usa $ t_{\\alpha/2} $.\n",
    "- **Prueba unilateral:** se usa $ t_{\\alpha} $.\n",
    "\n",
    "- Si  $ |t| $ calculado es **mayor** que el valor crítico $ t_{\\alpha} $, se rechaza la hipótesis nula.\n",
    "- Si  $ |t |$ calculado es **menor** que el valor crítico $ t_{\\alpha} $, no se rechaza la hipótesis nula.\n",
    "\n",
    "#### Ejemplo\n",
    "Dos grupos de personas realizan un examen y se quiere comprobar si existe una diferencia significativa en sus puntajes. Se toman dos muestras independientes con los siguientes valores:\n",
    "\n",
    "Para el grupo 1\n",
    "- Media muestral ($\\bar{x}_1$) = 85\n",
    "- Desviación estándar muestral ($s_1$) = 8\n",
    "- Tamaño de la muestra ($n_1$) = 30\n",
    "\n",
    "Para el grupo 2\n",
    "\n",
    "- Media muestral ($\\bar{x}_2$) = 80\n",
    "- Desviación estándar muestral ($s_2$) = 10\n",
    "- Tamaño de la muestra ($n_2$) = 35\n"
   ]
  },
  {
   "cell_type": "code",
   "execution_count": null,
   "metadata": {
    "colab": {
     "base_uri": "https://localhost:8080/"
    },
    "executionInfo": {
     "elapsed": 1127,
     "status": "ok",
     "timestamp": 1739320608572,
     "user": {
      "displayName": "Maria Angelica Agudelo Rodriguez",
      "userId": "14150242144259018203"
     },
     "user_tz": 300
    },
    "id": "hYVty-LEljEO",
    "outputId": "69388f55-02f2-4c44-8767-1004819d9419"
   },
   "outputs": [
    {
     "name": "stdout",
     "output_type": "stream",
     "text": [
      "Estadístico t: 2.2382\n",
      "Grados de libertad: 62.7277\n",
      "Valor p: 0.0288\n",
      "Rechazamos la hipótesis nula: Hay evidencia de una diferencia significativa entre los grupos.\n"
     ]
    }
   ],
   "source": [
    "import scipy.stats as stats\n",
    "import numpy as np\n",
    "\n",
    "x1, s1, n1 = 85, 8, 30  # Media, desviación estándar y tamaño del grupo 1\n",
    "x2, s2, n2 = 80, 10, 35  # Media, desviación estándar y tamaño del grupo 2\n",
    "\n",
    "# Cálculo del estadístico t\n",
    "t_stat = (x1 - x2) / np.sqrt((s1**2 / n1) + (s2**2 / n2))\n",
    "\n",
    "# Cálculo de los grados de libertad\n",
    "df = ((s1**2 / n1) + (s2**2 / n2))**2 / (( (s1**2 / n1)**2 / (n1 - 1) ) + ( (s2**2 / n2)**2 / (n2 - 1) ))\n",
    "\n",
    "# Cálculo del valor p (prueba bilateral)\n",
    "p_value = 2 * (1 - stats.t.cdf(abs(t_stat), df))\n",
    "\n",
    "# Resultados\n",
    "print(f\"Estadístico t: {t_stat:.4f}\")\n",
    "print(f\"Grados de libertad: {df:.4f}\")\n",
    "print(f\"Valor p: {p_value:.4f}\")\n",
    "\n",
    "# Decisión\n",
    "alpha = 0.05\n",
    "if p_value < alpha:\n",
    "    print(\"Rechazamos la hipótesis nula: Hay evidencia de una diferencia significativa entre los grupos.\")\n",
    "else:\n",
    "    print(\"No rechazamos la hipótesis nula: No hay evidencia suficiente para decir que hay una diferencia.\")\n"
   ]
  },
  {
   "cell_type": "markdown",
   "metadata": {
    "id": "-KzAsmoXmar4"
   },
   "source": [
    "## 3. Muestras Pareadas\n",
    "\n",
    "Cuando las muestras son pareadas, significa que los datos provienen de las mismas unidades antes o el mismo sujeto en diferentes condiciones. En este caso, la prueba adecuada es la prueba t para muestras dependientes\n",
    "\n",
    "\n",
    "Las hipótesis se plantean en términos de la diferencia entre las mediciones pareadas:\n",
    "\n",
    "- **Hipótesis nula ($H_0$):** No hay diferencia en la media antes y después del tratamiento.  \n",
    "  $$ H_0: \\mu_d = 0 $$  \n",
    "\n",
    "- **Hipótesis alternativa ($H_1$):** Existe una diferencia significativa en la media antes y después del tratamiento.  \n",
    "  - Prueba bilateral:\n",
    "    $$ H_1: \\mu_d \\neq 0 $$  \n",
    "  - Prueba unilateral (a favor de un aumento o disminución):\n",
    "    $$ H_1: \\mu_d > 0 \\quad \\text{o} \\quad H_1: \\mu_d < 0 $$  \n",
    "\n",
    "Donde $\\mu_d$ es la media de las diferencias entre las muestras pareadas.\n",
    "\n",
    "El estadístico t se calcula como sigue:\n",
    "\n",
    "$$\n",
    "t = \\frac{\\bar{d} - \\mu_d}{s_d / \\sqrt{n}}\n",
    "$$\n",
    "\n",
    "Donde:  \n",
    "- $ \\bar{d} $ es la **media de las diferencias** entre los pares.  \n",
    "- $ s_d $ es la **desviación estándar de las diferencias**.  \n",
    "- $ n $ es el **número de pares** en la muestra.  \n",
    "- $ \\mu_d $ es la diferencia poblacional esperada (generalmente 0 en la hipótesis nula).  \n",
    "\n",
    "Este estadístico sigue una distribución t de Student con $ n - 1 $ grados de libertad.\n",
    "\n",
    "Se compara el valor absoluto de $ t $ con el valor crítico de $ t_{\\alpha} $ obtenido de la tabla de distribución t de Student.\n",
    "\n",
    "\n",
    "#### Ejemplo\n",
    "Un grupo de 10 estudiantes realiza una prueba antes y después de recibir un curso de preparación. Se quiere comprobar si hubo una mejora significativa en sus puntajes.\n",
    "\n",
    "| Estudiante | Antes | Después |\n",
    "|------------|-------|---------|\n",
    "| 1          | 65    | 70      |\n",
    "| 2          | 78    | 82      |\n",
    "| 3          | 90    | 91      |\n",
    "| 4          | 55    | 60      |\n",
    "| 5          | 72    | 75      |\n",
    "| 6          | 80    | 85      |\n",
    "| 7          | 68    | 70      |\n",
    "| 8          | 74    | 78      |\n",
    "| 9          | 60    | 65      |\n",
    "| 10         | 85    | 87      |\n",
    "\n"
   ]
  },
  {
   "cell_type": "code",
   "execution_count": null,
   "metadata": {
    "colab": {
     "base_uri": "https://localhost:8080/"
    },
    "executionInfo": {
     "elapsed": 516,
     "status": "ok",
     "timestamp": 1739321022437,
     "user": {
      "displayName": "Maria Angelica Agudelo Rodriguez",
      "userId": "14150242144259018203"
     },
     "user_tz": 300
    },
    "id": "LB-T0kaWnHuG",
    "outputId": "e3fc7890-8ecf-4c8a-edff-b0075484ebbb"
   },
   "outputs": [
    {
     "name": "stdout",
     "output_type": "stream",
     "text": [
      "Estadístico t: -7.5615\n",
      "Valor p: 0.0000\n",
      "Rechazamos la hipótesis nula: Hay evidencia de una diferencia significativa.\n"
     ]
    }
   ],
   "source": [
    "import scipy.stats as stats\n",
    "import numpy as np\n",
    "\n",
    "# Datos antes y después del tratamiento\n",
    "antes = np.array([65, 78, 90, 55, 72, 80, 68, 74, 60, 85])\n",
    "despues = np.array([70, 82, 91, 60, 75, 85, 70, 78, 65, 87])\n",
    "\n",
    "# Calculamos la diferencia\n",
    "diferencias = despues - antes\n",
    "\n",
    "# Prueba t para muestras pareadas\n",
    "t_stat, p_value = stats.ttest_rel(antes, despues)\n",
    "\n",
    "# Resultados\n",
    "print(f\"Estadístico t: {t_stat:.4f}\")\n",
    "print(f\"Valor p: {p_value:.4f}\")\n",
    "\n",
    "# Decisión\n",
    "alpha = 0.05\n",
    "if p_value < alpha:\n",
    "    print(\"Rechazamos la hipótesis nula: Hay evidencia de una diferencia significativa.\")\n",
    "else:\n",
    "    print(\"No rechazamos la hipótesis nula: No hay evidencia suficiente para afirmar que hubo un cambio.\")\n"
   ]
  },
  {
   "cell_type": "markdown",
   "metadata": {
    "id": "1DRRFuBujRj2"
   },
   "source": [
    "# Seccion 6: Prueba de hipótesis para la varianza.\n",
    "Se utiliza para determinar si la varianza de una población es igual a un valor específico, basado en una muestra. Queremos probar si la varianza poblacional $\\sigma^2$ es igual a un valor teórico $\\sigma_0^2$:\n",
    "\n",
    "- **Hipótesis nula ($H_0$):** La varianza de la población es igual a $\\sigma_0^2$.  \n",
    "  $$\n",
    "  H_0: \\sigma^2 = \\sigma_0^2\n",
    "  $$\n",
    "\n",
    "- **Hipótesis alternativa ($H_1$):** La varianza es diferente, mayor o menor.  \n",
    "  - **Prueba bilateral:**  \n",
    "    $$ H_1: \\sigma^2 \\neq \\sigma_0^2 $$  \n",
    "  - **Prueba unilateral:**  \n",
    "    $$ H_1: \\sigma^2 > \\sigma_0^2 \\quad \\text{o} \\quad H_1: \\sigma^2 < \\sigma_0^2 $$  \n",
    "\n",
    "\n",
    "Se utiliza la distribución Chi-cuadrado y el estadístico de prueba será el siguiente\n",
    "\n",
    "$$\n",
    "\\chi^2 = \\frac{(n-1) s^2}{\\sigma_0^2}\n",
    "$$  \n",
    "\n",
    "Donde:  \n",
    "- $ n $ es el tamaño de la muestra.  \n",
    "- $ s^2 $ es la varianza muestral.  \n",
    "- $ \\sigma_0^2 $ es la varianza teórica bajo la hipótesis nula.  \n",
    "- La distribución $\\chi^2$ tiene **$n - 1$ grados de libertad**.  \n",
    "\n",
    "\n",
    "Para una prueba bilateral, se rechaza $H_0$ si:  \n",
    "  $$\n",
    "  \\chi^2 < \\chi^2_{\\alpha/2, n-1} \\quad \\text{ó} \\quad \\chi^2 > \\chi^2_{1-\\alpha/2, n-1}\n",
    "  $$  \n",
    "Para una prueba unilateral, se rechaza $H_0$ si:  \n",
    "  - $\\sigma^2 > \\sigma_0^2$:  \n",
    "    $$ \\chi^2 > \\chi^2_{1-\\alpha, n-1} $$  \n",
    "  - $\\sigma^2 < \\sigma_0^2$:  \n",
    "    $$ \\chi^2 < \\chi^2_{\\alpha, n-1} $$  \n",
    "\n",
    "\n",
    "#### Ejemplo\n",
    "\n",
    "Un fabricante afirma que la varianza de la duración de sus baterías es 25 horas. Se toma una muestra de 15 baterías y se encuentra una varianza muestral de 36 horas. Queremos verificar si la varianza es significativamente diferente de 25 con un nivel de significancia de $\\alpha = 0.05$\n",
    "\n",
    "\n",
    "\n",
    "\n",
    "\n"
   ]
  },
  {
   "cell_type": "code",
   "execution_count": null,
   "metadata": {
    "colab": {
     "base_uri": "https://localhost:8080/"
    },
    "executionInfo": {
     "elapsed": 240,
     "status": "ok",
     "timestamp": 1739321425038,
     "user": {
      "displayName": "Maria Angelica Agudelo Rodriguez",
      "userId": "14150242144259018203"
     },
     "user_tz": 300
    },
    "id": "ML6H3imvopqA",
    "outputId": "bce7ee05-ff62-485e-d71b-5e9eb6dcf94a"
   },
   "outputs": [
    {
     "name": "stdout",
     "output_type": "stream",
     "text": [
      "Estadístico Chi-cuadrado: 20.1600\n",
      "Valor crítico inferior: 5.6287\n",
      "Valor crítico superior: 26.1189\n",
      "Valor p: 0.2504\n",
      "No rechazamos la hipótesis nula: no hay evidencia suficiente para afirmar que la varianza sea diferente de 25.\n"
     ]
    }
   ],
   "source": [
    "import scipy.stats as stats\n",
    "\n",
    "# Datos del problema\n",
    "n = 15          # Tamaño de la muestra\n",
    "s2 = 36         # Varianza muestral\n",
    "sigma02 = 25    # Varianza teórica\n",
    "\n",
    "# Cálculo del estadístico de prueba\n",
    "chi2_stat = (n - 1) * s2 / sigma02\n",
    "\n",
    "# Valores críticos para prueba bilateral (alpha = 0.05)\n",
    "alpha = 0.05\n",
    "chi2_crit_low = stats.chi2.ppf(alpha / 2, n - 1)\n",
    "chi2_crit_high = stats.chi2.ppf(1 - alpha / 2, n - 1)\n",
    "\n",
    "# Valor p\n",
    "p_value = 2 * min(stats.chi2.cdf(chi2_stat, n - 1), 1 - stats.chi2.cdf(chi2_stat, n - 1))\n",
    "\n",
    "# Resultados\n",
    "print(f\"Estadístico Chi-cuadrado: {chi2_stat:.4f}\")\n",
    "print(f\"Valor crítico inferior: {chi2_crit_low:.4f}\")\n",
    "print(f\"Valor crítico superior: {chi2_crit_high:.4f}\")\n",
    "print(f\"Valor p: {p_value:.4f}\")\n",
    "\n",
    "# Decisión\n",
    "if p_value < alpha:\n",
    "    print(\"Rechazamos la hipótesis nula: la varianza es significativamente diferente de 25.\")\n",
    "else:\n",
    "    print(\"No rechazamos la hipótesis nula: no hay evidencia suficiente para afirmar que la varianza sea diferente de 25.\")"
   ]
  },
  {
   "cell_type": "markdown",
   "metadata": {
    "id": "0JROP9g-pLjq"
   },
   "source": [
    "| **Hipótesis**         | **Prueba de la cola inferior**       | **Prueba de la cola superior**       | **Prueba de dos colas**         |\n",
    "|-----------------------|----------------------------------|----------------------------------|----------------------------------|\n",
    "| **Hipótesis nula** ($H_0$)  | $H_0: \\sigma^2 \\geq \\sigma_0^2$ | $H_0: \\sigma^2 \\leq \\sigma_0^2$ | $H_0: \\sigma^2 = \\sigma_0^2$   |\n",
    "| **Hipótesis alternativa** ($H_a$) | $H_a: \\sigma^2 < \\sigma_0^2$  | $H_a: \\sigma^2 > \\sigma_0^2$  | $H_a: \\sigma^2 \\neq \\sigma_0^2$ |\n",
    "| **Estadístico de prueba**  | $\\chi^2 = \\frac{(n-1) s^2}{\\sigma_0^2}$ | $\\chi^2 = \\frac{(n-1) s^2}{\\sigma_0^2}$ | $\\chi^2 = \\frac{(n-1) s^2}{\\sigma_0^2}$ |\n",
    "| **Regla de rechazo: método del valor-$p$** | Rechazar $H_0$ si valor-$p \\leq \\alpha$ | Rechazar $H_0$ si valor-$p \\leq \\alpha$ | Rechazar $H_0$ si valor-$p \\leq \\alpha$ |\n",
    "| **Regla de rechazo: método del valor crítico** | Rechazar $H_0$ si $\\chi^2 \\leq \\chi_{(1-\\alpha)}^2$ | Rechazar $H_0$ si $\\chi^2 \\geq \\chi_{\\alpha}^2$ | Rechazar $H_0$ si $\\chi^2 < \\chi_{\\alpha/2}^2$ O  $\\chi^2 > \\chi_{1- \\alpha/2}^2$|\n"
   ]
  },
  {
   "cell_type": "markdown",
   "metadata": {
    "id": "Qw_j2uMgn1K8"
   },
   "source": [
    "# Sección 7: Prueba de hipótesis para la razón de varianzas.\n",
    "\n",
    "Se usa para comparar las varianzas de dos poblaciones y determinar si son iguales o si una es significativamente mayor que la otra. Se basa en la distribución F de Fisher. Queremos probar si las varianzas de dos poblaciones son iguales:  \n",
    "\n",
    "- **Hipótesis nula ($H_0$):** Las varianzas poblacionales son iguales.  \n",
    "  $$\n",
    "  H_0: \\frac{\\sigma_1^2}{\\sigma_2^2} = 1 \\quad \\text{o} \\quad \\sigma_1^2 = \\sigma_2^2\n",
    "  $$  \n",
    "- **Hipótesis alternativa ($H_1$):**  \n",
    "  - **Prueba bilateral:**  \n",
    "    $$ H_1: \\sigma_1^2 \\neq \\sigma_2^2 $$\n",
    "  - **Prueba unilateral:**  \n",
    "    $$ H_1: \\sigma_1^2 > \\sigma_2^2 $$\n",
    "    $$ H_1: \\sigma_1^2 < \\sigma_2^2 $$  \n",
    "\n",
    "\n",
    "El estadístico de prueba en este caso será\n",
    "\n",
    "$$\n",
    "F = \\frac{s_1^2}{s_2^2}\n",
    "$$  \n",
    "\n",
    "Donde:  \n",
    "- $ s_1^2 $ y $ s_2^2 $ son las varianzas muestrales de los dos grupos.  \n",
    "- Se asume que $ s_1^2 $ es la mayor de las dos varianzas (para que $ F \\geq 1 $).  \n",
    "- Los grados de libertad son:  \n",
    "  - **Numerador:** $ df_1 = n_1 - 1 $  \n",
    "  - **Denominador:** $ df_2 = n_2 - 1 $  \n",
    "\n",
    "Para una prueba **bilateral**, se rechaza $H_0$ si:  \n",
    "  $$\n",
    "  F < F_{\\alpha/2, df_1, df_2} \\quad \\text{ó} \\quad F > F_{1-\\alpha/2, df_1, df_2}\n",
    "  $$  \n",
    "\n",
    " Para una prueba **unilateral**, se rechaza $H_0$ si:  \n",
    "  - **Si $\\sigma_1^2 > \\sigma_2^2$:**  \n",
    "    $$ F > F_{1-\\alpha, df_1, df_2} $$  \n",
    "  - **Si $\\sigma_1^2 < \\sigma_2^2$:**  \n",
    "    $$ F < F_{\\alpha, df_1, df_2} $$  \n",
    "\n",
    "---\n",
    "\n",
    "#### Ejemplo\n",
    "\n",
    "Dos máquinas producen piezas con una varianza en su diámetro. Se toma una muestra de 10 piezas de la Máquina 1 y 12 piezas de la Máquina 2. Se obtiene que:  \n",
    "\n",
    "- **Máquina 1:** varianza muestral $s_1^2 = 4.5$  \n",
    "- **Máquina 2:** varianza muestral $s_2^2 = 2.8$  \n",
    "\n",
    "Queremos probar con **$\\alpha = 0.05$** si las varianzas son significativamente diferentes.  \n"
   ]
  },
  {
   "cell_type": "code",
   "execution_count": null,
   "metadata": {
    "colab": {
     "base_uri": "https://localhost:8080/"
    },
    "executionInfo": {
     "elapsed": 202,
     "status": "ok",
     "timestamp": 1739321727898,
     "user": {
      "displayName": "Maria Angelica Agudelo Rodriguez",
      "userId": "14150242144259018203"
     },
     "user_tz": 300
    },
    "id": "pezMmGIfp0bR",
    "outputId": "82a5de32-32ac-43d3-c450-22a9d4a2aeb8"
   },
   "outputs": [
    {
     "name": "stdout",
     "output_type": "stream",
     "text": [
      "Estadístico F: 1.6071\n",
      "Valor crítico inferior: 0.2556\n",
      "Valor crítico superior: 3.5879\n",
      "Valor p: 0.4522\n",
      "No rechazamos la hipótesis nula: no hay evidencia suficiente para afirmar que las varianzas son diferentes.\n"
     ]
    }
   ],
   "source": [
    "import scipy.stats as stats\n",
    "\n",
    "# Datos del problema\n",
    "n1, s1_2 = 10, 4.5  # Tamaño y varianza muestral de la Máquina 1\n",
    "n2, s2_2 = 12, 2.8  # Tamaño y varianza muestral de la Máquina 2\n",
    "\n",
    "# Se asume que s1_2 > s2_2 para asegurar que F >= 1\n",
    "F_stat = s1_2 / s2_2\n",
    "\n",
    "# Grados de libertad\n",
    "df1, df2 = n1 - 1, n2 - 1\n",
    "\n",
    "# Valores críticos para prueba bilateral (alpha = 0.05)\n",
    "alpha = 0.05\n",
    "F_crit_low = stats.f.ppf(alpha / 2, df1, df2)\n",
    "F_crit_high = stats.f.ppf(1 - alpha / 2, df1, df2)\n",
    "\n",
    "# Valor p\n",
    "p_value = 2 * min(stats.f.cdf(F_stat, df1, df2), 1 - stats.f.cdf(F_stat, df1, df2))\n",
    "\n",
    "# Resultados\n",
    "print(f\"Estadístico F: {F_stat:.4f}\")\n",
    "print(f\"Valor crítico inferior: {F_crit_low:.4f}\")\n",
    "print(f\"Valor crítico superior: {F_crit_high:.4f}\")\n",
    "print(f\"Valor p: {p_value:.4f}\")\n",
    "\n",
    "# Decisión\n",
    "if p_value < alpha:\n",
    "    print(\"Rechazamos la hipótesis nula: las varianzas son significativamente diferentes.\")\n",
    "else:\n",
    "    print(\"No rechazamos la hipótesis nula: no hay evidencia suficiente para afirmar que las varianzas son diferentes.\")\n"
   ]
  }
 ],
 "metadata": {
  "colab": {
   "provenance": [],
   "toc_visible": true
  },
  "kernelspec": {
   "display_name": "base",
   "language": "python",
   "name": "python3"
  },
  "language_info": {
   "name": "python",
   "version": "3.11.5"
  }
 },
 "nbformat": 4,
 "nbformat_minor": 0
}
