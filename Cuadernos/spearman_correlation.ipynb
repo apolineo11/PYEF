{
 "cells": [
  {
   "cell_type": "code",
   "execution_count": 1,
   "metadata": {
    "executionInfo": {
     "elapsed": 12,
     "status": "ok",
     "timestamp": 1745976819797,
     "user": {
      "displayName": "Edgardo Antonio Araque Vasquez",
      "userId": "13445342902934867669"
     },
     "user_tz": 300
    },
    "id": "0SDoXMOD8CLe"
   },
   "outputs": [],
   "source": [
    "# imports\n",
    "import pandas as pd\n",
    "import numpy as np\n",
    "import matplotlib.pyplot as plt\n",
    "from scipy.stats import spearmanr\n",
    "from scipy.stats import  permutation_test\n",
    "from scipy.stats import rankdata\n",
    "from scipy.stats import norm\n",
    "from copy import deepcopy\n",
    "# paths\n",
    "datos_g10_path = \"https://raw.githubusercontent.com/apolineo11/PYEF/main/Cuadernos/Data/Datos_Probabilidad_Grupo_10.xlsx\"\n",
    "datos_g11_path = \"https://raw.githubusercontent.com/apolineo11/PYEF/main/Cuadernos/Data/Datos_Probabilidad_Grupo_11.xlsx\""
   ]
  },
  {
   "cell_type": "code",
   "execution_count": 2,
   "metadata": {
    "executionInfo": {
     "elapsed": 7,
     "status": "ok",
     "timestamp": 1745976819802,
     "user": {
      "displayName": "Edgardo Antonio Araque Vasquez",
      "userId": "13445342902934867669"
     },
     "user_tz": 300
    },
    "id": "e_lmqkQh-fi-"
   },
   "outputs": [],
   "source": [
    "# leer los datos\n",
    "datos_g10 = pd.read_excel(datos_g10_path)\n",
    "datos_g11 = pd.read_excel(datos_g11_path, skiprows=1)"
   ]
  },
  {
   "cell_type": "code",
   "execution_count": 3,
   "metadata": {
    "executionInfo": {
     "elapsed": 2,
     "status": "ok",
     "timestamp": 1745976819808,
     "user": {
      "displayName": "Edgardo Antonio Araque Vasquez",
      "userId": "13445342902934867669"
     },
     "user_tz": 300
    },
    "id": "hb4TzOAE-oUz"
   },
   "outputs": [],
   "source": [
    "# limpieza datos\n",
    "datos_g10.rename(columns={\"ESTRATO DEL PREDIO DONDE VIVE\":\"ESTRATO\",\n",
    "                          \"EDAD (AÑOS)\":\"EDAD\",\n",
    "                          \"PROGRAMA ACADÉMICO\":\"PROGRAMA\",\n",
    "                          \"NÚMERO DE MATRICULAS\": \"MATRICULAS\",\n",
    "                          \"ESTATURA (CM)\": \"ESTATURA\",\n",
    "                          \"PESO (KG)\": \"PESO\"}, inplace=True)\n",
    "datos_g11.rename(columns={\"ESTRATO DEL PREDIO DONDE VIVE \":\"ESTRATO\",\n",
    "                          \"EDAD (AÑOS)\":\"EDAD\",\n",
    "                          \"PROGRAMA ACADEMICO\":\"PROGRAMA\",\n",
    "                          \"NUMERO DE MATRICULAS\": \"MATRICULAS\",\n",
    "                          \"ESTATURA (CM)\": \"ESTATURA\",\n",
    "                          \"PESO KG)\": \"PESO\"}, inplace=True)\n",
    "columns_df = [\"ESTRATO\", \"EDAD\", \"PROGRAMA\", \"MATRICULAS\", \"ESTATURA\", \"PESO\"]\n",
    "datos_g10 = datos_g10[columns_df]\n",
    "datos_g11 = datos_g11[columns_df]\n",
    "df = pd.concat([datos_g10, datos_g11])\n",
    "programa_dict = {\"ADMINISTRACIÓN\": \"ADMINISTRACION\", \"ECONOMÍA\":\"ECONOMIA\", \"CONTADURÍA PÚBLICA\":\"CONTADURIA PUBLICA\"}\n",
    "df.replace({\"PROGRAMA\": programa_dict}, inplace=True)\n",
    "df.dropna(inplace=True)\n",
    "df.reset_index(drop=True, inplace=True)\n",
    "df = df.astype({\"EDAD\": \"int32\", \"MATRICULAS\":\"int32\", \"ESTRATO\":\"int32\", \"PROGRAMA\":\"category\"})\n",
    "df[\"ESTRATO\"] = df[\"ESTRATO\"].astype(\"str\").astype(\"category\")\n",
    "df[\"ESTRATO\"] = df[\"ESTRATO\"].cat.reorder_categories([\"1\", \"2\", \"3\", \"4\", \"5\", \"6\"], ordered=True)\n"
   ]
  },
  {
   "cell_type": "code",
   "execution_count": 4,
   "metadata": {},
   "outputs": [
    {
     "data": {
      "text/html": [
       "<div>\n",
       "<style scoped>\n",
       "    .dataframe tbody tr th:only-of-type {\n",
       "        vertical-align: middle;\n",
       "    }\n",
       "\n",
       "    .dataframe tbody tr th {\n",
       "        vertical-align: top;\n",
       "    }\n",
       "\n",
       "    .dataframe thead th {\n",
       "        text-align: right;\n",
       "    }\n",
       "</style>\n",
       "<table border=\"1\" class=\"dataframe\">\n",
       "  <thead>\n",
       "    <tr style=\"text-align: right;\">\n",
       "      <th></th>\n",
       "      <th>ESTRATO</th>\n",
       "      <th>EDAD</th>\n",
       "      <th>PROGRAMA</th>\n",
       "      <th>MATRICULAS</th>\n",
       "      <th>ESTATURA</th>\n",
       "      <th>PESO</th>\n",
       "    </tr>\n",
       "  </thead>\n",
       "  <tbody>\n",
       "    <tr>\n",
       "      <th>0</th>\n",
       "      <td>1</td>\n",
       "      <td>24</td>\n",
       "      <td>ADMINISTRACION</td>\n",
       "      <td>6</td>\n",
       "      <td>175.0</td>\n",
       "      <td>67.0</td>\n",
       "    </tr>\n",
       "    <tr>\n",
       "      <th>1</th>\n",
       "      <td>3</td>\n",
       "      <td>25</td>\n",
       "      <td>ADMINISTRACION</td>\n",
       "      <td>4</td>\n",
       "      <td>145.0</td>\n",
       "      <td>60.0</td>\n",
       "    </tr>\n",
       "    <tr>\n",
       "      <th>2</th>\n",
       "      <td>5</td>\n",
       "      <td>18</td>\n",
       "      <td>ECONOMIA</td>\n",
       "      <td>3</td>\n",
       "      <td>185.0</td>\n",
       "      <td>87.0</td>\n",
       "    </tr>\n",
       "    <tr>\n",
       "      <th>3</th>\n",
       "      <td>3</td>\n",
       "      <td>20</td>\n",
       "      <td>ECONOMIA</td>\n",
       "      <td>3</td>\n",
       "      <td>173.0</td>\n",
       "      <td>57.0</td>\n",
       "    </tr>\n",
       "    <tr>\n",
       "      <th>4</th>\n",
       "      <td>5</td>\n",
       "      <td>17</td>\n",
       "      <td>ADMINISTRACION</td>\n",
       "      <td>3</td>\n",
       "      <td>160.0</td>\n",
       "      <td>58.0</td>\n",
       "    </tr>\n",
       "  </tbody>\n",
       "</table>\n",
       "</div>"
      ],
      "text/plain": [
       "  ESTRATO  EDAD        PROGRAMA  MATRICULAS  ESTATURA  PESO\n",
       "0       1    24  ADMINISTRACION           6     175.0  67.0\n",
       "1       3    25  ADMINISTRACION           4     145.0  60.0\n",
       "2       5    18        ECONOMIA           3     185.0  87.0\n",
       "3       3    20        ECONOMIA           3     173.0  57.0\n",
       "4       5    17  ADMINISTRACION           3     160.0  58.0"
      ]
     },
     "execution_count": 4,
     "metadata": {},
     "output_type": "execute_result"
    }
   ],
   "source": [
    "df.head()"
   ]
  },
  {
   "cell_type": "markdown",
   "metadata": {},
   "source": [
    "# Coeficiente de correlación $\\rho$ de Spearman\n",
    "\n",
    "Es una medida no paramétrica de correlación que evalúa la fuerza y dirección de una asociación **monótona** entre dos variables (*ordinales*), a partir de sus rangos. Se utiliza cuando los datos no cumplen los supuestos de normalidad o relación lineal requeridos por la correlación de Pearson.\n",
    "\n",
    "\n",
    "---\n",
    "\n",
    "## Monotonía\n",
    "\n",
    "Si en dos conjuntos $A$ y $B$ existe una relación de tal forma que a un elemento de $A$ le corresponde un elemento de $B$, de tal manera que tenemos pares ordenados\n",
    "$(a_k, b_k)$ donde $a_k \\in A$ y $b_k \\in B$.\n",
    "\n",
    "- **Monotonía Creciente**:\n",
    "$$a_i \\leq a_j \\Rightarrow b_i \\leq b_j$$ \n",
    "\n",
    "- **Monotonía Decreciente**:\n",
    "$$a_i \\leq a_j \\Rightarrow b_i \\geq b_j$$\n",
    "\n",
    "---\n",
    "\n",
    "## Cálculo\n",
    "\n",
    "Suponga que tiene un conjunto de datos de $n$ observaciones, en donde tiene a su vez medidas las variables $X$ y $Y$, entonces:\n",
    "\n",
    "- El *k-esimo* individuo tiene un par de datos asociados: $(X_k = x_k, Y_k= y_k)$, donde $1 \\leq k \\leq n$.\n",
    "- Tanto las variables $X$ y $Y$ son de naturaleza ordinal. Con ello podemos calcular la función $\\operatorname{rank}(X) = R_X$ y $\\operatorname{rank}(Y) = R_Y$. Esta función asigna un número entre $1$ y $n$ que refleja la posición que ocupa cada elemento cuando se ordena todo el vector de observaciones en forma ascendente.\n",
    "- De tal forma que ahora tenemos dos nuevos vectores de observaciones $R_X$ y $R_Y$\n",
    "\n",
    "$$\\rho_s(X,Y) = \\frac{\\operatorname{Cov}(R_X, R_Y)}{\\sigma_{R_X} \\sigma_{R_Y}}$$\n",
    "\n",
    "\n",
    "Es evidente que $\\rho_s$ es el mismo coeficiente de correlación de *Pearson* pero aplicado a las nuevas variables. Entonces, lo que mide es el grado de asociación lineal entre las variables $\\operatorname{rank}(X)$ y $\\operatorname{rank}(Y)$, esto redunda en medir una asociación monótona entre las variables $X$ y $Y$.\n",
    "\n",
    "\n",
    "---\n",
    "**Nota**: Cuando hay empates en el cálculo del ranking, se procede a desempatar con el promedio de dicho ranking.\n",
    "\n",
    "\n",
    "\n",
    "\n",
    "\n",
    "\n",
    "\n"
   ]
  },
  {
   "cell_type": "code",
   "execution_count": 5,
   "metadata": {},
   "outputs": [
    {
     "data": {
      "image/png": "[encoded data removed]",
      "text/plain": [
       "<Figure size 800x600 with 1 Axes>"
      ]
     },
     "metadata": {},
     "output_type": "display_data"
    }
   ],
   "source": [
    "##############\n",
    "# Dispersión #\n",
    "##############\n",
    "\n",
    "# scatter plot peso vs estatura\n",
    "plt.figure(figsize=(8, 6))\n",
    "\n",
    "# Crear scatter plot\n",
    "plt.scatter(x=df[\"ESTATURA\"], y=df[\"PESO\"], edgecolors='k')\n",
    "\n",
    "# Crear la linea de regresón\n",
    "# Personalización\n",
    "plt.title('Diagrama de dispersión', fontsize=14)\n",
    "plt.xlabel('Estatura (cm)', fontsize=12)\n",
    "plt.ylabel('Peso (kg)', fontsize=12)\n",
    "plt.grid(True)\n",
    "\n",
    "# Mostrar gráfico\n",
    "plt.tight_layout()\n",
    "plt.show()"
   ]
  },
  {
   "cell_type": "code",
   "execution_count": 6,
   "metadata": {},
   "outputs": [
    {
     "data": {
      "image/png": "[encoded data removed]",
      "text/plain": [
       "<Figure size 800x600 with 1 Axes>"
      ]
     },
     "metadata": {},
     "output_type": "display_data"
    }
   ],
   "source": [
    "# calculo de ranking\n",
    "df['rank_ESTATURA'] = df['ESTATURA'].rank(method='average')\n",
    "df['rank_PESO'] = df['PESO'].rank(method='average')\n",
    "\n",
    "# scatter plot rank_peso vs rank_estatura\n",
    "plt.figure(figsize=(8, 6))\n",
    "\n",
    "# Crear scatter plot\n",
    "plt.scatter(x=df[\"rank_ESTATURA\"], y=df[\"rank_PESO\"], edgecolors='k')\n",
    "\n",
    "# Crear la linea de regresón\n",
    "# Personalización\n",
    "plt.title('Diagrama de dispersión', fontsize=14)\n",
    "plt.xlabel('Rank Estatura', fontsize=12)\n",
    "plt.ylabel('Rank Peso', fontsize=12)\n",
    "plt.grid(True)\n",
    "\n",
    "# Mostrar gráfico\n",
    "plt.tight_layout()\n",
    "plt.show()"
   ]
  },
  {
   "cell_type": "code",
   "execution_count": 7,
   "metadata": {},
   "outputs": [
    {
     "name": "stdout",
     "output_type": "stream",
     "text": [
      "El coeficiente de correlación de spearman es de: '0.612'\n"
     ]
    }
   ],
   "source": [
    "# cálculo\n",
    "pho, p_value = spearmanr(df['PESO'], df['ESTATURA'])\n",
    "print(f\"El coeficiente de correlación de spearman es de: '{pho:.3f}'\")"
   ]
  },
  {
   "cell_type": "markdown",
   "metadata": {},
   "source": [
    "## Significancia estadística\n",
    "\n",
    "Una vez calculado el $\\rho_s$ se debe ver si dicho valor es estadísticamente significante, para ello se usan dos aproximaciones. Una desde las permutaciones y otra de forma asintótica. Sin importar cual aproximación se usa, el supuesto primordial es asumir que nuestros datos son independientes. Con ello, probamos que tan probable es observar un $\\rho_s$ como el que nuestros datos arrojan.\n",
    "\n",
    "---\n",
    "\n",
    "### Sistema de Hipótesis\n",
    "\n",
    "El objetivo es evaluar si existe una asociación monótona entre las variables $X$ y $Y$.\n",
    "\n",
    "### Bilateral\n",
    "\n",
    "- $H_0$: $\\rho_s = 0$\n",
    "- $H_1$: $\\rho \\neq 0$\n",
    "\n",
    "### Unilateral\n",
    "\n",
    "- $H_0$: $\\rho_s = 0$\n",
    "- $H_1$: $\\rho_s > 0$ o $H_1$: $\\rho_s < 0$\n",
    "\n",
    "\n",
    "---\n",
    "\n",
    "### Permutaciones (Bilateral)\n",
    "\n",
    "Este enfoque se tiene lo siguiente:\n",
    "\n",
    "- Calcular los *rankings* de las variables $X$ y $Y$\n",
    "- Tomamos el vector $\\operatorname{rank}(X)$ como un vector fijo.\n",
    "- Para cada posible permutación del vector $\\operatorname{rank}(Y)$ calculamos el coeficiente de correlacion de *Pearson*. Esto lo que hace es emparejar a cada componente del vector $\\operatorname{rank}(X)$ una nueva componente resultado de la permutación (cambio de orden) del vector $\\operatorname{rank}(Y)$.\n",
    "- Se cuenta cuantos de los $n!$ posibles $|\\rho_s^{(b)}|$ son mayores al que nuestros datos generaron $|\\rho_s^{(obs)}|$. Esta frecuencia relativa al total nos da la probabilidad y con un nivel $\\alpha$ podriamos determinar su significancia:\n",
    "\n",
    "$$\\operatorname{pvalue}(\\rho_s) = \\frac{\\#\\left\\{b:|\\rho_s^{(b)}| > |\\rho_s^{(obs)}|\\right\\}}{n!}$$\n",
    "\n",
    "Sin embargo, a medida que $n$ se hace muy grande, computacionalmente es inviable hacer $n!$ permutaciones. Se prefiere hacer un número $B$ considerable de permutaciones aleatorias. Además, también se hace una corrección que tiene en cuenta que el conjunto no tenga ningún elemento. Es decir, si en las $B$ permutaciones no existe ningún valor mayor al de nuestros datos, por ende:\n",
    "\n",
    "$$\\operatorname{pvalue}(\\rho_s) = \\frac{ 1 + \\#\\left\\{b:|\\rho_s^{(b)}| > |\\rho_s^{(obs)}|\\right\\}}{1 + B}$$\n",
    "\n",
    "\n",
    "**NOTA**: Se considera recomendable este enfoque cuando el tamaño de la muestra es pequeño $n \\leq 30$, pero no es limitante ya que si se logra hacer el total de permutaciones posibles su valor es exacto."
   ]
  },
  {
   "cell_type": "code",
   "execution_count": 8,
   "metadata": {},
   "outputs": [
    {
     "name": "stdout",
     "output_type": "stream",
     "text": [
      "El valor p del estadístico calculado por permutaciones es de: '2.000E-04'\n"
     ]
    }
   ],
   "source": [
    "# Permutaciones\n",
    "x = deepcopy(df['ESTATURA'])\n",
    "y = deepcopy(df['PESO'])\n",
    "\n",
    "def statistic(x):\n",
    "    return spearmanr(x, y).statistic\n",
    "\n",
    "res_exact = permutation_test((x,), statistic, permutation_type='pairings')\n",
    "print(f\"El valor p del estadístico calculado por permutaciones es de: '{res_exact.pvalue:.3E}'\")\n"
   ]
  },
  {
   "cell_type": "markdown",
   "metadata": {},
   "source": [
    "### Asintótica\n",
    "\n",
    "Existen 2 aproximaciones asintóticas:\n",
    "\n",
    "\n",
    "Cuando $n$ es suficientemente grande, $\\rho_s$ es asintóticamente normal.\n",
    "\n",
    "##### **Sin empates:**\n",
    "\n",
    "$$\n",
    "Z = \\rho_s \\cdot \\sqrt{n - 1} \\sim \\mathcal{N}(0,1)\n",
    "$$\n",
    "\n",
    "##### **Con empates:**\n",
    "\n",
    "Se corrige la varianza:\n",
    "\n",
    "$$\n",
    "\\text{Var}(\\rho_s) = \\frac{1 - e_x - e_y}{n - 1}\n",
    "\\quad \\Rightarrow \\quad\n",
    "Z = \\frac{\\rho_s}{\\sqrt{\\text{Var}(\\rho_s)}} \\sim \\mathcal{N}(0,1)\n",
    "$$\n",
    "\n",
    "donde:\n",
    "\n",
    "$$\n",
    "e = \\frac{1}{n(n^2 - 1)} \\sum_j (t_j^3 - t_j)\n",
    "\\quad \\text{(para grupos empatados de tamaño } t_j)\n",
    "$$\n"
   ]
  },
  {
   "cell_type": "code",
   "execution_count": 9,
   "metadata": {},
   "outputs": [
    {
     "name": "stdout",
     "output_type": "stream",
     "text": [
      "El estadístico de prueba Z con aproximación normal es: '5.412' -- Tiene un p-valor de: '6.229E-08'\n"
     ]
    }
   ],
   "source": [
    "# Funciones para calcular la varianza corregida y la signmificancia\n",
    "def correction_term(x):\n",
    "    \"\"\"\n",
    "    Calcula el termino e_x de correccion por empate\n",
    "    \"\"\"\n",
    "    rank_x = rankdata(x, method='average')\n",
    "    n = len(x)\n",
    "    _, size_rank = np.unique(rank_x,return_counts=True)\n",
    "    tie_x = size_rank[size_rank>1]\n",
    "    e = ((np.sum(tie_x**3 - tie_x))/(n*(n**2 - 1))) if len(tie_x) > 0 else 0.0\n",
    "    return e\n",
    "\n",
    "def corrected_var(x,y):\n",
    "    \"\"\"\n",
    "    Calcula la varianza corregida de rho\n",
    "    \"\"\"\n",
    "    e_x = correction_term(x)\n",
    "    e_y = correction_term(y)\n",
    "    n = len(x)\n",
    "    var = (1- e_x - e_y)/(n-1)\n",
    "    return var\n",
    "\n",
    "# Calculo del estadístico Z\n",
    "\n",
    "def z_spearman(x,y):\n",
    "    \"\"\"\n",
    "    Calcula el estadístico z\n",
    "    \"\"\"\n",
    "    rho_s = spearmanr(x, y).statistic\n",
    "    var = corrected_var(x,y)\n",
    "    z = rho_s/np.sqrt(var)\n",
    "    return z\n",
    "\n",
    "def p_value_spearman(z, h1=\"bilateral\"):\n",
    "    \"\"\"\n",
    "    Calcula el p valor\n",
    "    \"\"\"\n",
    "\n",
    "    if h1.lower()==\"bilateral\":\n",
    "        p_value = 2*norm.sf(np.abs(z))\n",
    "        return p_value\n",
    "    elif h1.lower()==\"greater\":\n",
    "        p_value = norm.sf(z)\n",
    "        return p_value\n",
    "    elif h1.lower()==\"less\":\n",
    "        p_value = norm.cdf(z)\n",
    "        return p_value\n",
    "    else:\n",
    "        raise ValueError\n",
    "\n",
    "# calculo del p value con aproximación normal\n",
    "z_rho = z_spearman(df['ESTATURA'], df['PESO'])\n",
    "p_value_z = p_value_spearman(z_rho)\n",
    "print(f\"El estadístico de prueba Z con aproximación normal es: '{z_rho:.3f}' -- Tiene un p-valor de: '{p_value_z:.3E}'\")"
   ]
  },
  {
   "cell_type": "markdown",
   "metadata": {},
   "source": [
    "\n",
    "\n",
    "#### **T-Student**\n",
    "\n",
    "Bajo ciertos supuestos se puede asumir que:\n",
    "\n",
    "$$t = \\frac{\\rho_s \\sqrt{n-2}}{\\sqrt{1-\\rho_s^2}} \\sim t_{n-2}$$"
   ]
  },
  {
   "cell_type": "code",
   "execution_count": 10,
   "metadata": {},
   "outputs": [
    {
     "name": "stdout",
     "output_type": "stream",
     "text": [
      "El estadístico de prueba t por aproximación t-student es: '6.782' -- Tiene un p-valor de: '2.142E-09'\n"
     ]
    }
   ],
   "source": [
    "# calculo con aproximación t-student\n",
    "n = len(df)\n",
    "rho_s, p_value_t = spearmanr(df[\"ESTATURA\"], df[\"PESO\"])\n",
    "t = rho_s*(np.sqrt(n-2))/(np.sqrt(1-rho_s**2))\n",
    "print(f\"El estadístico de prueba t por aproximación t-student es: '{t:.3f}' -- Tiene un p-valor de: '{p_value_t:.3E}'\")\n"
   ]
  }
 ],
 "metadata": {
  "colab": {
   "authorship_tag": "ABX9TyMU7dkXl/FbicUJf/6IuWqU",
   "mount_file_id": "1OwTjV4j9XzzGPdnvX9emNNTuTwHNrFia",
   "provenance": []
  },
  "kernelspec": {
   "display_name": "data_base",
   "language": "python",
   "name": "python3"
  },
  "language_info": {
   "codemirror_mode": {
    "name": "ipython",
    "version": 3
   },
   "file_extension": ".py",
   "mimetype": "text/x-python",
   "name": "python",
   "nbconvert_exporter": "python",
   "pygments_lexer": "ipython3",
   "version": "3.12.7"
  }
 },
 "nbformat": 4,
 "nbformat_minor": 0
}
