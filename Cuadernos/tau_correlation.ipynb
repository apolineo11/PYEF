{
 "cells": [
  {
   "cell_type": "code",
   "execution_count": 1,
   "metadata": {
    "executionInfo": {
     "elapsed": 12,
     "status": "ok",
     "timestamp": 1745976819797,
     "user": {
      "displayName": "Edgardo Antonio Araque Vasquez",
      "userId": "13445342902934867669"
     },
     "user_tz": 300
    },
    "id": "0SDoXMOD8CLe"
   },
   "outputs": [],
   "source": [
    "# imports\n",
    "import pandas as pd\n",
    "import numpy as np\n",
    "import matplotlib.pyplot as plt\n",
    "from scipy.stats import kendalltau\n",
    "from itertools import combinations\n",
    "# paths\n",
    "datos_g10_path = \"https://raw.githubusercontent.com/apolineo11/PYEF/main/Cuadernos/Data/Datos_Probabilidad_Grupo_10.xlsx\"\n",
    "datos_g11_path = \"https://raw.githubusercontent.com/apolineo11/PYEF/main/Cuadernos/Data/Datos_Probabilidad_Grupo_11.xlsx\""
   ]
  },
  {
   "cell_type": "code",
   "execution_count": 2,
   "metadata": {
    "executionInfo": {
     "elapsed": 7,
     "status": "ok",
     "timestamp": 1745976819802,
     "user": {
      "displayName": "Edgardo Antonio Araque Vasquez",
      "userId": "13445342902934867669"
     },
     "user_tz": 300
    },
    "id": "e_lmqkQh-fi-"
   },
   "outputs": [],
   "source": [
    "# leer los datos\n",
    "datos_g10 = pd.read_excel(datos_g10_path)\n",
    "datos_g11 = pd.read_excel(datos_g11_path, skiprows=1)"
   ]
  },
  {
   "cell_type": "code",
   "execution_count": 3,
   "metadata": {
    "executionInfo": {
     "elapsed": 2,
     "status": "ok",
     "timestamp": 1745976819808,
     "user": {
      "displayName": "Edgardo Antonio Araque Vasquez",
      "userId": "13445342902934867669"
     },
     "user_tz": 300
    },
    "id": "hb4TzOAE-oUz"
   },
   "outputs": [],
   "source": [
    "# limpieza datos\n",
    "datos_g10.rename(columns={\"ESTRATO DEL PREDIO DONDE VIVE\":\"ESTRATO\",\n",
    "                          \"EDAD (AÑOS)\":\"EDAD\",\n",
    "                          \"PROGRAMA ACADÉMICO\":\"PROGRAMA\",\n",
    "                          \"NÚMERO DE MATRICULAS\": \"MATRICULAS\",\n",
    "                          \"ESTATURA (CM)\": \"ESTATURA\",\n",
    "                          \"PESO (KG)\": \"PESO\"}, inplace=True)\n",
    "datos_g11.rename(columns={\"ESTRATO DEL PREDIO DONDE VIVE \":\"ESTRATO\",\n",
    "                          \"EDAD (AÑOS)\":\"EDAD\",\n",
    "                          \"PROGRAMA ACADEMICO\":\"PROGRAMA\",\n",
    "                          \"NUMERO DE MATRICULAS\": \"MATRICULAS\",\n",
    "                          \"ESTATURA (CM)\": \"ESTATURA\",\n",
    "                          \"PESO KG)\": \"PESO\"}, inplace=True)\n",
    "columns_df = [\"ESTRATO\", \"EDAD\", \"PROGRAMA\", \"MATRICULAS\", \"ESTATURA\", \"PESO\"]\n",
    "datos_g10 = datos_g10[columns_df]\n",
    "datos_g11 = datos_g11[columns_df]\n",
    "df = pd.concat([datos_g10, datos_g11])\n",
    "programa_dict = {\"ADMINISTRACIÓN\": \"ADMINISTRACION\", \"ECONOMÍA\":\"ECONOMIA\", \"CONTADURÍA PÚBLICA\":\"CONTADURIA PUBLICA\"}\n",
    "df.replace({\"PROGRAMA\": programa_dict}, inplace=True)\n",
    "df.dropna(inplace=True)\n",
    "df.reset_index(drop=True, inplace=True)\n",
    "df = df.astype({\"EDAD\": \"int32\", \"MATRICULAS\":\"int32\", \"ESTRATO\":\"int32\", \"PROGRAMA\":\"category\"})\n",
    "df[\"ESTRATO\"] = df[\"ESTRATO\"].astype(\"str\").astype(\"category\")\n",
    "df[\"ESTRATO\"] = df[\"ESTRATO\"].cat.reorder_categories([\"1\", \"2\", \"3\", \"4\", \"5\", \"6\"], ordered=True)\n"
   ]
  },
  {
   "cell_type": "code",
   "execution_count": 4,
   "metadata": {},
   "outputs": [
    {
     "data": {
      "text/html": [
       "<div>\n",
       "<style scoped>\n",
       "    .dataframe tbody tr th:only-of-type {\n",
       "        vertical-align: middle;\n",
       "    }\n",
       "\n",
       "    .dataframe tbody tr th {\n",
       "        vertical-align: top;\n",
       "    }\n",
       "\n",
       "    .dataframe thead th {\n",
       "        text-align: right;\n",
       "    }\n",
       "</style>\n",
       "<table border=\"1\" class=\"dataframe\">\n",
       "  <thead>\n",
       "    <tr style=\"text-align: right;\">\n",
       "      <th></th>\n",
       "      <th>ESTRATO</th>\n",
       "      <th>EDAD</th>\n",
       "      <th>PROGRAMA</th>\n",
       "      <th>MATRICULAS</th>\n",
       "      <th>ESTATURA</th>\n",
       "      <th>PESO</th>\n",
       "    </tr>\n",
       "  </thead>\n",
       "  <tbody>\n",
       "    <tr>\n",
       "      <th>0</th>\n",
       "      <td>1</td>\n",
       "      <td>24</td>\n",
       "      <td>ADMINISTRACION</td>\n",
       "      <td>6</td>\n",
       "      <td>175.0</td>\n",
       "      <td>67.0</td>\n",
       "    </tr>\n",
       "    <tr>\n",
       "      <th>1</th>\n",
       "      <td>3</td>\n",
       "      <td>25</td>\n",
       "      <td>ADMINISTRACION</td>\n",
       "      <td>4</td>\n",
       "      <td>145.0</td>\n",
       "      <td>60.0</td>\n",
       "    </tr>\n",
       "    <tr>\n",
       "      <th>2</th>\n",
       "      <td>5</td>\n",
       "      <td>18</td>\n",
       "      <td>ECONOMIA</td>\n",
       "      <td>3</td>\n",
       "      <td>185.0</td>\n",
       "      <td>87.0</td>\n",
       "    </tr>\n",
       "    <tr>\n",
       "      <th>3</th>\n",
       "      <td>3</td>\n",
       "      <td>20</td>\n",
       "      <td>ECONOMIA</td>\n",
       "      <td>3</td>\n",
       "      <td>173.0</td>\n",
       "      <td>57.0</td>\n",
       "    </tr>\n",
       "    <tr>\n",
       "      <th>4</th>\n",
       "      <td>5</td>\n",
       "      <td>17</td>\n",
       "      <td>ADMINISTRACION</td>\n",
       "      <td>3</td>\n",
       "      <td>160.0</td>\n",
       "      <td>58.0</td>\n",
       "    </tr>\n",
       "  </tbody>\n",
       "</table>\n",
       "</div>"
      ],
      "text/plain": [
       "  ESTRATO  EDAD        PROGRAMA  MATRICULAS  ESTATURA  PESO\n",
       "0       1    24  ADMINISTRACION           6     175.0  67.0\n",
       "1       3    25  ADMINISTRACION           4     145.0  60.0\n",
       "2       5    18        ECONOMIA           3     185.0  87.0\n",
       "3       3    20        ECONOMIA           3     173.0  57.0\n",
       "4       5    17  ADMINISTRACION           3     160.0  58.0"
      ]
     },
     "execution_count": 4,
     "metadata": {},
     "output_type": "execute_result"
    }
   ],
   "source": [
    "df.head()"
   ]
  },
  {
   "cell_type": "markdown",
   "metadata": {},
   "source": [
    "# Coeficiente de correlación de Tau\n",
    "\n",
    "El coeficiente de correlación de $\\tau$ mide la asociación de dos variables *\"ordinales\"*.\n",
    "Dicha asociación compara el orden impuesto por una variable con el orden que impone la otra variable, la comparación se hace basado en el concepto de pares de datos **concordantes** y pares de datos **discordantes**.\n",
    "\n",
    "Suponga que tiene un conjunto de datos de $n$ observaciones, en donde tiene a su vez medidas de las variables $X$ y $Y$, entonces:.\n",
    "\n",
    "- El *k-esimo* individuo tiene un par de datos asociados: $(X_k = x_k, Y_k= y_k)$, donde $1 \\leq k \\leq n$.\n",
    "- El valor que toma la variable $X$ para cada uno de los individuos le impone un orden al *k-esimo* individuo dentro del total de individuos. Lo mismo ocurre con la variable $Y$.\n",
    "- Si tomo los $n$ pares de datos $(x_k, y_k)$ como los elementos de un conjunto de tamaño $n$. Entonces el total de formas en las que es posible armar subconjuntos de tamaño $2$ sin importar el orden. Es decir, la totalidad de emparejamientos posibles entre los $n$ individuos viene dada por la expresión:\n",
    "\n",
    " $$\\binom{n}{2} = \\frac{n!}{(n-2)!2!}$$\n",
    "\n",
    "- Sea $\\{(x_i,y_i), (x_j,y_j)\\}$, uno de los posibles pares,  se dice que:\n",
    "    - Es un par **concordante** si:\n",
    "        - $(x_i > x_j \\land y_i > y_j) \\lor (x_i < x_j \\land y_i < y_j)$\n",
    "    - Es un par ****discordante** si:\n",
    "        - $(x_i > x_j \\land y_i < y_j) \\lor (x_i < x_j \\land y_i > y_j)$\n",
    "    - **Empate** si:\n",
    "        - $(x_i = x_j) \\lor (y_i = y_j)$"
   ]
  },
  {
   "cell_type": "code",
   "execution_count": 5,
   "metadata": {},
   "outputs": [
    {
     "name": "stdout",
     "output_type": "stream",
     "text": [
      "El total de emparejamientos es '3081'\n"
     ]
    },
    {
     "data": {
      "text/html": [
       "<div>\n",
       "<style scoped>\n",
       "    .dataframe tbody tr th:only-of-type {\n",
       "        vertical-align: middle;\n",
       "    }\n",
       "\n",
       "    .dataframe tbody tr th {\n",
       "        vertical-align: top;\n",
       "    }\n",
       "\n",
       "    .dataframe thead th {\n",
       "        text-align: right;\n",
       "    }\n",
       "</style>\n",
       "<table border=\"1\" class=\"dataframe\">\n",
       "  <thead>\n",
       "    <tr style=\"text-align: right;\">\n",
       "      <th></th>\n",
       "      <th>ESTATURA_1</th>\n",
       "      <th>PESO_1</th>\n",
       "      <th>ESTATURA_2</th>\n",
       "      <th>PESO_2</th>\n",
       "    </tr>\n",
       "  </thead>\n",
       "  <tbody>\n",
       "    <tr>\n",
       "      <th>0</th>\n",
       "      <td>175.0</td>\n",
       "      <td>67.0</td>\n",
       "      <td>145.0</td>\n",
       "      <td>60.0</td>\n",
       "    </tr>\n",
       "    <tr>\n",
       "      <th>1</th>\n",
       "      <td>175.0</td>\n",
       "      <td>67.0</td>\n",
       "      <td>185.0</td>\n",
       "      <td>87.0</td>\n",
       "    </tr>\n",
       "    <tr>\n",
       "      <th>2</th>\n",
       "      <td>175.0</td>\n",
       "      <td>67.0</td>\n",
       "      <td>173.0</td>\n",
       "      <td>57.0</td>\n",
       "    </tr>\n",
       "    <tr>\n",
       "      <th>3</th>\n",
       "      <td>175.0</td>\n",
       "      <td>67.0</td>\n",
       "      <td>160.0</td>\n",
       "      <td>58.0</td>\n",
       "    </tr>\n",
       "    <tr>\n",
       "      <th>4</th>\n",
       "      <td>175.0</td>\n",
       "      <td>67.0</td>\n",
       "      <td>180.0</td>\n",
       "      <td>60.0</td>\n",
       "    </tr>\n",
       "    <tr>\n",
       "      <th>5</th>\n",
       "      <td>175.0</td>\n",
       "      <td>67.0</td>\n",
       "      <td>182.0</td>\n",
       "      <td>80.0</td>\n",
       "    </tr>\n",
       "    <tr>\n",
       "      <th>6</th>\n",
       "      <td>175.0</td>\n",
       "      <td>67.0</td>\n",
       "      <td>160.0</td>\n",
       "      <td>85.0</td>\n",
       "    </tr>\n",
       "    <tr>\n",
       "      <th>7</th>\n",
       "      <td>175.0</td>\n",
       "      <td>67.0</td>\n",
       "      <td>170.0</td>\n",
       "      <td>68.0</td>\n",
       "    </tr>\n",
       "    <tr>\n",
       "      <th>8</th>\n",
       "      <td>175.0</td>\n",
       "      <td>67.0</td>\n",
       "      <td>150.0</td>\n",
       "      <td>40.0</td>\n",
       "    </tr>\n",
       "    <tr>\n",
       "      <th>9</th>\n",
       "      <td>175.0</td>\n",
       "      <td>67.0</td>\n",
       "      <td>172.0</td>\n",
       "      <td>64.0</td>\n",
       "    </tr>\n",
       "    <tr>\n",
       "      <th>10</th>\n",
       "      <td>175.0</td>\n",
       "      <td>67.0</td>\n",
       "      <td>168.0</td>\n",
       "      <td>72.0</td>\n",
       "    </tr>\n",
       "    <tr>\n",
       "      <th>11</th>\n",
       "      <td>175.0</td>\n",
       "      <td>67.0</td>\n",
       "      <td>154.0</td>\n",
       "      <td>55.0</td>\n",
       "    </tr>\n",
       "    <tr>\n",
       "      <th>12</th>\n",
       "      <td>175.0</td>\n",
       "      <td>67.0</td>\n",
       "      <td>163.0</td>\n",
       "      <td>62.0</td>\n",
       "    </tr>\n",
       "    <tr>\n",
       "      <th>13</th>\n",
       "      <td>175.0</td>\n",
       "      <td>67.0</td>\n",
       "      <td>166.0</td>\n",
       "      <td>50.0</td>\n",
       "    </tr>\n",
       "    <tr>\n",
       "      <th>14</th>\n",
       "      <td>175.0</td>\n",
       "      <td>67.0</td>\n",
       "      <td>182.0</td>\n",
       "      <td>70.0</td>\n",
       "    </tr>\n",
       "    <tr>\n",
       "      <th>15</th>\n",
       "      <td>175.0</td>\n",
       "      <td>67.0</td>\n",
       "      <td>173.0</td>\n",
       "      <td>66.0</td>\n",
       "    </tr>\n",
       "    <tr>\n",
       "      <th>16</th>\n",
       "      <td>175.0</td>\n",
       "      <td>67.0</td>\n",
       "      <td>165.0</td>\n",
       "      <td>55.0</td>\n",
       "    </tr>\n",
       "    <tr>\n",
       "      <th>17</th>\n",
       "      <td>175.0</td>\n",
       "      <td>67.0</td>\n",
       "      <td>179.0</td>\n",
       "      <td>75.0</td>\n",
       "    </tr>\n",
       "    <tr>\n",
       "      <th>18</th>\n",
       "      <td>175.0</td>\n",
       "      <td>67.0</td>\n",
       "      <td>172.0</td>\n",
       "      <td>75.0</td>\n",
       "    </tr>\n",
       "    <tr>\n",
       "      <th>19</th>\n",
       "      <td>175.0</td>\n",
       "      <td>67.0</td>\n",
       "      <td>183.0</td>\n",
       "      <td>77.0</td>\n",
       "    </tr>\n",
       "  </tbody>\n",
       "</table>\n",
       "</div>"
      ],
      "text/plain": [
       "    ESTATURA_1  PESO_1  ESTATURA_2  PESO_2\n",
       "0        175.0    67.0       145.0    60.0\n",
       "1        175.0    67.0       185.0    87.0\n",
       "2        175.0    67.0       173.0    57.0\n",
       "3        175.0    67.0       160.0    58.0\n",
       "4        175.0    67.0       180.0    60.0\n",
       "5        175.0    67.0       182.0    80.0\n",
       "6        175.0    67.0       160.0    85.0\n",
       "7        175.0    67.0       170.0    68.0\n",
       "8        175.0    67.0       150.0    40.0\n",
       "9        175.0    67.0       172.0    64.0\n",
       "10       175.0    67.0       168.0    72.0\n",
       "11       175.0    67.0       154.0    55.0\n",
       "12       175.0    67.0       163.0    62.0\n",
       "13       175.0    67.0       166.0    50.0\n",
       "14       175.0    67.0       182.0    70.0\n",
       "15       175.0    67.0       173.0    66.0\n",
       "16       175.0    67.0       165.0    55.0\n",
       "17       175.0    67.0       179.0    75.0\n",
       "18       175.0    67.0       172.0    75.0\n",
       "19       175.0    67.0       183.0    77.0"
      ]
     },
     "execution_count": 5,
     "metadata": {},
     "output_type": "execute_result"
    }
   ],
   "source": [
    "# Ejemplo\n",
    "# Tomamos las variables estatura y peso\n",
    "individuos = list(df[['ESTATURA', 'PESO']].itertuples(index=False, name=None))\n",
    "emparejamientos = list(combinations(individuos, 2))\n",
    "df_emparejamientos = pd.DataFrame([\n",
    "    {'ESTATURA_1': a[0], 'PESO_1': a[1], 'ESTATURA_2': b[0], 'PESO_2': b[1]} \n",
    "    for a, b in emparejamientos\n",
    "])\n",
    "\n",
    "print(f\"El total de emparejamientos es '{df_emparejamientos.shape[0]}'\")\n",
    "df_emparejamientos.head(20)"
   ]
  },
  {
   "cell_type": "markdown",
   "metadata": {},
   "source": [
    "## Cálculo de concordancia\n",
    "\n",
    "Definamos lo siguiente:\n",
    "\n",
    "$$A_{ij} := \\operatorname{sign}\\left[(X_i - X_j)(Y_i - Y_j)\\right] \\in \\{-1, 0, 1\\}$$\n",
    "\n",
    "Con esto:\n",
    "\n",
    "- Si el par $(i,j)$ es concordante entonces $A_{ij} = 1$\n",
    "- Si el par $(i,j)$ es discordante entonces $A_{ij} = -1$\n",
    "- Si hay empate en el par $(i,j)$ entonces $A_{ij} = 0$.\n",
    "\n",
    "Si hacemos la suma $(S)$ de esta variable sobre el total de los posibles pares, lo que equivale a calcular la diferencia entre el número total de pares concordantes $N_c$ y el total de pares discordantes $N_d$.\n",
    "\n",
    "$$S = N_c - N_d$$\n",
    "\n",
    "Acá se debe aclarar que en la definición de $A_{ij}$, debe haber una resstricción donde $i < j$. Esto es así para evitar contar doble vez un emparejamiento."
   ]
  },
  {
   "cell_type": "code",
   "execution_count": 6,
   "metadata": {},
   "outputs": [
    {
     "name": "stdout",
     "output_type": "stream",
     "text": [
      "La diferencia entre el total de pares concordantes y discordantes es de: '1351.0'\n"
     ]
    }
   ],
   "source": [
    "# calculo de concordantes\n",
    "df_emparejamientos['A_ij'] = df_emparejamientos[[\"ESTATURA_1\", \"PESO_1\", \"ESTATURA_2\", \"PESO_2\"]].apply(lambda x: np.sign((x.iloc[0]-x.iloc[2])*(x.iloc[1]-x.iloc[3])), axis=1)\n",
    "S = df_emparejamientos['A_ij'].sum()\n",
    "print(f\"La diferencia entre el total de pares concordantes y discordantes es de: '{S}'\")"
   ]
  },
  {
   "cell_type": "markdown",
   "metadata": {},
   "source": [
    "# Tau\n",
    "\n",
    "Una vez tenemos la suma $S$, se necesita comparar con algo de referencia para saber que nos dice. Entonces, se compara con el total de pares posibles y con ello encontramos una medida relativa.\n",
    "\n",
    "$$\n",
    "\\begin{aligned}\n",
    "    \\tau &= \\frac{N_c - N_d}{\\binom{n}{2}}\\\\\n",
    "    \\tau &= \\frac{S}{\\binom{n}{2}}\n",
    "\\end{aligned}\n",
    "$$\n",
    "\n",
    "Sin embargo, cuando hay empates, existen pares que no se pueden clasificar, lo que puede provocar una sobreestimación o subestimación del grado de asociación si se utiliza $\\tau$ sin corrección. Es por ello que se corrije haciendo la comparación con el promedio geométrico de los pares realmente clasificados para las dos variables. Quedando así:\n",
    "\n",
    "Sea:\n",
    "- $\\binom{n}{2} = N_0$\n",
    "- $T_x$: El total de pares con empate en la variable $X$.\n",
    "- $T_y$: El total de pares con empate en la variable $Y$.\n",
    "\n",
    "Entonces se define:\n",
    "$$\n",
    "\\begin{aligned}\n",
    "    \\tau_b &= \\frac{N_c - N_d}{\\sqrt{(N_0 - T_x)(N_0 - T_y)}}\\\\\n",
    "    \\tau_b &= \\frac{S}{\\sqrt{(N_0 - T_x)(N_0 - T_y)}}\n",
    "\\end{aligned}\n",
    "$$\n",
    "\n",
    "En el ejercicio diario siempre se usa el $\\tau_b$."
   ]
  },
  {
   "cell_type": "code",
   "execution_count": 7,
   "metadata": {
    "colab": {
     "base_uri": "https://localhost:8080/",
     "height": 627
    },
    "executionInfo": {
     "elapsed": 616,
     "status": "ok",
     "timestamp": 1745976820427,
     "user": {
      "displayName": "Edgardo Antonio Araque Vasquez",
      "userId": "13445342902934867669"
     },
     "user_tz": 300
    },
    "id": "RXeElnIv_yqM",
    "outputId": "bf597bd9-7a06-45fe-a5c9-3fb2af08bdbb"
   },
   "outputs": [
    {
     "data": {
      "image/png": "[encoded data removed]",
      "text/plain": [
       "<Figure size 800x600 with 1 Axes>"
      ]
     },
     "metadata": {},
     "output_type": "display_data"
    }
   ],
   "source": [
    "##############\n",
    "# Dispersión #\n",
    "##############\n",
    "\n",
    "# scatter plot peso vs estatura\n",
    "plt.figure(figsize=(8, 6))\n",
    "\n",
    "# Crear scatter plot\n",
    "plt.scatter(x=df[\"ESTATURA\"], y=df[\"PESO\"], edgecolors='k')\n",
    "\n",
    "# Crear la linea de regresón\n",
    "# Personalización\n",
    "plt.title('Diagrama de dispersión', fontsize=14)\n",
    "plt.xlabel('Estatura (cm)', fontsize=12)\n",
    "plt.ylabel('Peso (kg)', fontsize=12)\n",
    "plt.grid(True)\n",
    "\n",
    "# Mostrar gráfico\n",
    "plt.tight_layout()\n",
    "plt.show()"
   ]
  },
  {
   "cell_type": "code",
   "execution_count": 8,
   "metadata": {
    "colab": {
     "base_uri": "https://localhost:8080/",
     "height": 627
    },
    "executionInfo": {
     "elapsed": 8,
     "status": "ok",
     "timestamp": 1745976820448,
     "user": {
      "displayName": "Edgardo Antonio Araque Vasquez",
      "userId": "13445342902934867669"
     },
     "user_tz": 300
    },
    "id": "6RunmC9kDNuk",
    "outputId": "7512cd2b-5b3e-4369-949f-646aaf20eef6"
   },
   "outputs": [
    {
     "name": "stdout",
     "output_type": "stream",
     "text": [
      "El coeficiente de correlación Tau entre las variables 'PESO' y 'ESTATURA' es: '0.452\n"
     ]
    }
   ],
   "source": [
    "# Kendall Tau\n",
    "tau, p_tau = kendalltau(df[\"ESTATURA\"], df[\"PESO\"])\n",
    "print(f\"El coeficiente de correlación Tau entre las variables 'PESO' y 'ESTATURA' es: '{tau:.3f}\")"
   ]
  },
  {
   "cell_type": "markdown",
   "metadata": {},
   "source": [
    "## Prueba de hipótesis\n",
    "\n",
    "El objetivo es evaluar si existe una asociación entre las variables $X$ y $Y$, ambas ordinales, el sistema de hipotesis se plantea así:\n",
    "\n",
    "\n",
    "### Bilateral\n",
    "\n",
    "- $H_0$: $\\tau = 0$\n",
    "- $H_1$: $\\tau \\neq 0$\n",
    "\n",
    "### Unilateral\n",
    "\n",
    "- $H_0$: $\\tau = 0$\n",
    "- $H_1$: $\\tau > 0$ o $H_1$: $\\tau < 0$\n",
    "\n",
    "---\n",
    "\n",
    "### Supuestos\n",
    "\n",
    "- Recordemos que $S$ es una suma de variables aleatorias, y que si estás son independientes. el teorema central del límite garantiza que, bajo ciertas condiciones, la suma de muchas variables aleatorias débilesmente dependientes converge en distribución a una normal.\n",
    "- Se asume que bajo la hipótesis nula, no existe asociación ente $X$ y $Y$. Por ende $E\\left[S\\right] = 0$\n",
    "- Existe una varianza teorica dada la hipótesis nula. Existiendo una versión cuando no hay empates y otra cuando consideramos empates.\n",
    "\n",
    "Con estos supuestos tenemos el estadístico:\n",
    "\n",
    "$$Z = \\frac{S}{\\sqrt{Var(S)}} \\sim N(0,1)$$\n",
    "\n",
    "---\n",
    "\n",
    "#### Varianza sin empates\n",
    "\n",
    "Bajo la hipótesis nula y sin empates en los datos, la varianza del estadístico $S = N_c - N_d$ es:\n",
    "\n",
    "$$\n",
    "\\operatorname{Var}(S) = \\frac{n(n - 1)(2n + 5)}{18}\n",
    "$$\n",
    "\n",
    "\n",
    "---\n",
    "\n",
    "### Varianza con empates\n",
    "\n",
    "Cuando existen empates en las variables $X$ o $Y$, la varianza del estadístico $S = N_c - N_d$ se ajusta así:\n",
    "\n",
    "$$\n",
    "\\operatorname{Var}(S) =\n",
    "\\frac{1}{18} \\left[\n",
    "n(n-1)(2n+5)\n",
    "- \\sum t_i(t_i - 1)(2t_i + 5)\n",
    "- \\sum u_j(u_j - 1)(2u_j + 5)\n",
    "\\right]\n",
    "+ \\frac{1}{9n(n-1)(n-2)} \\left[\n",
    "\\sum t_i(t_i - 1)(t_i - 2)\n",
    "\\right]\n",
    "+ \\frac{1}{9n(n-1)(n-2)} \\left[\n",
    "\\sum u_j(u_j - 1)(u_j - 2)\n",
    "\\right]\n",
    "+ \\frac{1}{2n(n-1)} \\left[\n",
    "\\sum t_i(t_i - 1)\n",
    "\\right]\n",
    "\\left[\n",
    "\\sum u_j(u_j - 1)\n",
    "\\right]\n",
    "$$\n",
    "\n",
    "donde:\n",
    "\n",
    "- $t_i$: número de observaciones con el mismo valor de $X$ (grupo de empates $i$).\n",
    "- $u_j$: número de observaciones con el mismo valor de $Y$ (grupo de empates $j$).\n",
    "\n",
    "\n"
   ]
  },
  {
   "cell_type": "code",
   "execution_count": 9,
   "metadata": {},
   "outputs": [
    {
     "name": "stdout",
     "output_type": "stream",
     "text": [
      "El p-valor del estadístico S es de: '9.822E-09'\n"
     ]
    }
   ],
   "source": [
    "print(f\"El p-valor del estadístico S es de: '{p_tau:.3E}'\")"
   ]
  }
 ],
 "metadata": {
  "colab": {
   "authorship_tag": "ABX9TyMU7dkXl/FbicUJf/6IuWqU",
   "mount_file_id": "1OwTjV4j9XzzGPdnvX9emNNTuTwHNrFia",
   "provenance": []
  },
  "kernelspec": {
   "display_name": "data_base",
   "language": "python",
   "name": "python3"
  },
  "language_info": {
   "codemirror_mode": {
    "name": "ipython",
    "version": 3
   },
   "file_extension": ".py",
   "mimetype": "text/x-python",
   "name": "python",
   "nbconvert_exporter": "python",
   "pygments_lexer": "ipython3",
   "version": "3.12.7"
  }
 },
 "nbformat": 4,
 "nbformat_minor": 0
}
