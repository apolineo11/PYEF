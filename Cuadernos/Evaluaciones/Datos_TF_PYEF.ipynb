{
 "cells": [
  {
   "cell_type": "markdown",
   "metadata": {},
   "source": [
    "# **Requisitos del Conjunto de Datos para el Trabajo Final**\n",
    "\n",
    "## **1. Características Generales del Conjunto de Datos**\n",
    "- **Cantidad de observaciones**: El conjunto de datos debe tener entre **50 y 100 registros**, se asume independencia entre registros.\n",
    "- **Cantidad de variables**: Debe incluir al menos **5 variables**, con la siguiente distribución mínima:\n",
    "  - **2 variables cuantitativas** (ejemplo: ingresos, edad, nivel de educación en años, precio de productos, producción mensual, etc.).\n",
    "  - **1 variable categórica** (ejemplo: sector económico, tipo de contrato, género, categoría de productos, región geográfica, etc.).\n",
    "  - **Variables adicionales** que permitan explorar correlaciones y aplicar pruebas estadísticas.\n",
    "- **Tipo de datos excluidos**: No se permite el uso de **datos longitudinales** o **series de tiempo**.\n",
    "\n",
    "## **2. Origen y Documentación del Conjunto de Datos**\n",
    "- **Fuentes permitidas**:\n",
    "  - Únicamente **bases de datos públicas** (ejemplo: INE, Banco Mundial, DANE, Kaggle, Data.gov).\n",
    "- **Descripción obligatoria del conjunto de datos**:\n",
    "  - Breve explicación del contexto del conjunto de datos.\n",
    "  - Justificación de su relevancia para el análisis estadístico.\n",
    "  - Explicación de cada variable incluida y su interpretación.\n",
    "\n",
    "## **3. Calidad y Limpieza de los Datos**\n",
    "- Antes de realizar los análisis, los estudiantes deben:\n",
    "  - **Revisar la integridad del conjunto de datos**: Identificar posibles inconsistencias.\n",
    "  - **Eliminar datos nulos o incompletos** de manera justificada.\n",
    "  - **Realizar un proceso básico de limpieza** para asegurar que las variables sean utilizables en los análisis estadísticos.\n",
    "  - **Verificar la coherencia de las variables categóricas y cuantitativas** para evitar errores en los cálculos.\n",
    "  - **Verificar que al final de la depuración se tengan entre 50 - 100 registros**\n",
    "\n",
    "## **4. Aplicabilidad del Conjunto de Datos a los Temas del Curso**\n",
    "El conjunto de datos debe permitir aplicar los siguientes análisis:\n",
    "\n",
    "### **4.1. Estadística Descriptiva**\n",
    "- Medidas de tendencia central y dispersión.\n",
    "- Representaciones gráficas apropiadas para cada tipo de variable.\n",
    "\n",
    "### **4.2. Estimación de Parámetros**\n",
    "- Aplicación de intervalos de confianza para la media y la proporción.\n",
    "- Evaluación del insesgamiento y eficiencia de los estimadores.\n",
    "- Determinación del tamaño de muestra para la media y la proporción.\n",
    "\n",
    "### **4.3. Pruebas de Hipótesis**\n",
    "- Comparación de medias, proporciones y varianzas.\n",
    "- Evaluación de diferencias entre grupos con base en pruebas estadísticas.\n",
    "\n",
    "### **4.4. Regresión Lineal Simple**\n",
    "- Se espera que exista una **relación teórica plausible** entre la variable que se busca explicar y la variable explicativa.\n",
    "- **Ambas variables en la regresión deben ser cuantitativas**.\n",
    "- Aplicación de la recta de mínimos cuadrados.\n",
    "- Evaluación de los coeficientes de regresión y ajuste del modelo.\n",
    "\n"
   ]
  },
  {
   "cell_type": "markdown",
   "metadata": {},
   "source": []
  }
 ],
 "metadata": {
  "kernelspec": {
   "display_name": "opengeo",
   "language": "python",
   "name": "python3"
  },
  "language_info": {
   "codemirror_mode": {
    "name": "ipython",
    "version": 3
   },
   "file_extension": ".py",
   "mimetype": "text/x-python",
   "name": "python",
   "nbconvert_exporter": "python",
   "pygments_lexer": "ipython3",
   "version": "3.12.2"
  }
 },
 "nbformat": 4,
 "nbformat_minor": 2
}
