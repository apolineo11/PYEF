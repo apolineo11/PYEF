{
 "cells": [
  {
   "cell_type": "markdown",
   "metadata": {},
   "source": [
    "# **Trabajo Final de Probabilidad y Estadística**\n",
    "\n",
    "## **1. Objetivos**\n",
    "\n",
    "- Aplicar estadística descriptiva para analizar un conjunto de datos.\n",
    "- Realizar estimaciones de parámetros mediante intervalos de confianza.\n",
    "- Formular y evaluar pruebas de hipótesis con base en datos reales.\n",
    "- Implementar y analizar una regresión lineal simple con base en una relación teórica plausible.\n",
    "\n",
    "---\n",
    "\n",
    "## **2. Secciones**\n",
    "\n",
    "### **Sección 1: Estadística Descriptiva**\n",
    "1. Seleccione una variable cuantitativa y calcule la media, mediana y desviación estándar. Compare los valores obtenidos e interprete su significado en el contexto de los datos.\n",
    "2. Genere un gráfico adecuado para visualizar la distribución de una variable cuantitativa y describa los patrones observados.\n",
    "3. Compare la distribución de una variable categórica dentro de los datos utilizando frecuencias y proporciones. Interprete los resultados obtenidos.\n",
    "\n",
    "### **Sección 2: Estimación de Parámetros**\n",
    "4. Seleccione una variable cuantitativa y calcule un intervalo de confianza del 95% para su media. Interprete el intervalo y discuta su implicación.\n",
    "5. Estime un intervalo de confianza para la proporción de una variable categórica y discuta el grado de certeza sobre la población.\n",
    "6. Determine el tamaño de muestra necesario para estimar la media con un margen de error predefinido. Analice la relación entre el tamaño de muestra y la precisión de la estimación.\n",
    "\n",
    "### **Sección 3: Pruebas de Hipótesis**\n",
    "7. Seleccione una variable cuantitativa y realice una prueba de hipótesis para determinar si su media difiere significativamente de un valor de referencia. Interprete los resultados.\n",
    "8. Compare la media de una variable cuantitativa entre dos grupos de su conjunto de datos. Realice la prueba correspondiente e interprete los hallazgos.\n",
    "9. Realice una prueba de hipótesis sobre la proporción de una variable categórica y analice los resultados en el contexto del problema.\n",
    "\n",
    "### **Sección 4: Regresión Lineal Simple**\n",
    "10. Identifique dos variables cuantitativas en su conjunto de datos en las que pueda existir una relación teórica plausible. Explique por qué una de ellas puede ser explicada en función de la otra.\n",
    "11. Calcule la ecuación de regresión lineal simple y analice la interpretación de los coeficientes obtenidos.\n",
    "12. Evalúe el ajuste del modelo mediante el coeficiente de determinación (R²) e interprete su significado en el contexto de los datos analizados.\n",
    "13. Basado en los resultados de su regresión, ¿cree que el modelo es adecuado para hacer predicciones? Justifique su respuesta.\n",
    "\n",
    "---\n",
    "## **3. Recomendaciones**\n",
    "- Justificar todas las respuestas con base en los resultados obtenidos.\n",
    "- Asegurar la correcta interpretación y comunicación de los hallazgos estadísticos.\n",
    "- Realizar las citas correspondientes.\n",
    "- Toda figura y/o tabla debe estar numerada y analizada.\n",
    "- El plagio tiene como resultado en una calificación de 0.0.\n",
    "- La alteración de datos sin mención y/o justificación resultará en una calificación de 0.0.\n",
    "- Documente la limpieza o depuración de datos realizada.\n",
    "\n",
    "## **4. Entregables**\n",
    "- Informe tipo documento estructurado con introducción, desarrollo, conclusiones, referencias bibliográficas (archivo PDF).\n",
    "- Código utilizado (R, Python, Stata, etc.) que permita reproducir los resultados obtenidos.\n",
    "- Datos usados en formato (Excel, csv, etc)\n",
    "\n",
    "\n",
    "---\n",
    "\n"
   ]
  }
 ],
 "metadata": {
  "language_info": {
   "name": "python"
  }
 },
 "nbformat": 4,
 "nbformat_minor": 2
}
