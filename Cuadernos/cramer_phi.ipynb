{
  "cells": [
    {
      "cell_type": "code",
      "execution_count": 1,
      "metadata": {
        "id": "0SDoXMOD8CLe"
      },
      "outputs": [],
      "source": [
        "# imports\n",
        "import pandas as pd\n",
        "import numpy as np\n",
        "import matplotlib.pyplot as plt\n",
        "import seaborn as sns\n",
        "from scipy.stats import chi2_contingency\n",
        "from sklearn.metrics import matthews_corrcoef\n",
        "from scipy.stats import pearsonr\n",
        "import kagglehub\n",
        "from kagglehub import KaggleDatasetAdapter"
      ]
    },
    {
      "cell_type": "markdown",
      "metadata": {},
      "source": [
        "# V cramer\n",
        "\n",
        "El estadístico **V Cramer** se define así:\n",
        "\n",
        "$$ V = \\sqrt{\\frac{\\frac{\\chi^{2}}{n}}{\\min(k-1, r-1)}}$$\n",
        "\n",
        "De donde se tiene que:\n",
        "\n",
        "$$ \\chi^{2} = \\sum_{i,j}\\frac{\\left(O_{ij} - E_{ij}\\right)^{2}}{E_{ij}} \\text{, donde } i \\in (1, 2, \\dots, r) \\text{ y } j \\in (1, 2, \\dots k)$$\n",
        "\n",
        "\n",
        "Vale la pena aclarar que:\n",
        "- $O_{ij}$ es la frecuencia observada de ocurrencia simultanea de la variable A con nivel i y la variable B con nivel j.\n",
        "- $E_{ij}$ es el valor esperado de la ocurrencia simultanea de la variable A con nivel i y la variable B con nivel j. Pero asumiendo independencia entre las variables A y B.\n",
        "\n",
        "Si definimos $f(\\cdot)$ como la frecuencia de ocurrencia de $(\\cdot)$. Se puede definir desde el punto de vista frecuentista de probabilidad que:\n",
        "\n",
        "- $P(A_i) \\approx \\frac{f(A_i)}{n}$\n",
        "- $P(B_j) \\approx \\frac{f(B_j)}{n}$\n",
        "- $P(A_i \\cap B_j) \\approx \\frac{f(A_i \\cap B_j)}{n}$\n",
        "\n",
        "Cuando se dice que las variables son independientes se está diciendo que:\n",
        "\n",
        "- $P(A_i \\cap B_i) = P(A_i)P(B_j)$\n",
        "\n",
        "Entonces se puede hacer la siguiente aproximación:\n",
        "\n",
        "- $\\frac{f(A_i \\cap B_j)}{n} \\approx \\frac{f(A_i)}{n}\\frac{f(A_j)}{n}$\n",
        "\n",
        "Con ello:\n",
        "\n",
        "$ f(A_i \\cap B_j) \\approx \\frac{1}{n}f(A_i)f(A_j) = E_{ij} $\n"
      ]
    },
    {
      "cell_type": "markdown",
      "metadata": {},
      "source": [
        "# Ejemplo\n",
        "Datos de estudiantes de PYEF"
      ]
    },
    {
      "cell_type": "code",
      "execution_count": 2,
      "metadata": {
        "id": "e_lmqkQh-fi-"
      },
      "outputs": [],
      "source": [
        "# paths\n",
        "datos_g10_path = \"https://raw.githubusercontent.com/apolineo11/PYEF/main/Cuadernos/Data/Datos_Probabilidad_Grupo_10.xlsx\"\n",
        "datos_g11_path = \"https://raw.githubusercontent.com/apolineo11/PYEF/main/Cuadernos/Data/Datos_Probabilidad_Grupo_11.xlsx\"\n",
        "\n",
        "# leer los datos estudiantes\n",
        "datos_g10 = pd.read_excel(datos_g10_path)\n",
        "datos_g11 = pd.read_excel(datos_g11_path, skiprows=1)"
      ]
    },
    {
      "cell_type": "code",
      "execution_count": 3,
      "metadata": {
        "id": "hb4TzOAE-oUz"
      },
      "outputs": [],
      "source": [
        "# limpieza datos estudiantes\n",
        "datos_g10.rename(columns={\"ESTRATO DEL PREDIO DONDE VIVE\":\"ESTRATO\",\n",
        "                          \"EDAD (AÑOS)\":\"EDAD\",\n",
        "                          \"PROGRAMA ACADÉMICO\":\"PROGRAMA\",\n",
        "                          \"NÚMERO DE MATRICULAS\": \"MATRICULAS\",\n",
        "                          \"ESTATURA (CM)\": \"ESTATURA\",\n",
        "                          \"PESO (KG)\": \"PESO\"}, inplace=True)\n",
        "datos_g11.rename(columns={\"ESTRATO DEL PREDIO DONDE VIVE \":\"ESTRATO\",\n",
        "                          \"EDAD (AÑOS)\":\"EDAD\",\n",
        "                          \"PROGRAMA ACADEMICO\":\"PROGRAMA\",\n",
        "                          \"NUMERO DE MATRICULAS\": \"MATRICULAS\",\n",
        "                          \"ESTATURA (CM)\": \"ESTATURA\",\n",
        "                          \"PESO KG)\": \"PESO\"}, inplace=True)\n",
        "columns_df = [\"ESTRATO\", \"EDAD\", \"PROGRAMA\", \"MATRICULAS\", \"ESTATURA\", \"PESO\"]\n",
        "datos_g10 = datos_g10[columns_df]\n",
        "datos_g11 = datos_g11[columns_df]\n",
        "df = pd.concat([datos_g10, datos_g11])\n",
        "programa_dict = {\"ADMINISTRACIÓN\": \"ADMINISTRACION\", \"ECONOMÍA\":\"ECONOMIA\", \"CONTADURÍA PÚBLICA\":\"CONTADURIA PUBLICA\"}\n",
        "df.replace({\"PROGRAMA\": programa_dict}, inplace=True)\n",
        "df.dropna(inplace=True)\n",
        "df.reset_index(drop=True, inplace=True)\n",
        "df = df.astype({\"EDAD\": \"int32\", \"MATRICULAS\":\"int32\", \"ESTRATO\":\"int32\", \"PROGRAMA\":\"category\"})\n",
        "df[\"ESTRATO\"] = df[\"ESTRATO\"].astype(\"str\").astype(\"category\")\n",
        "df[\"ESTRATO\"] = df[\"ESTRATO\"].cat.reorder_categories([\"1\", \"2\", \"3\", \"4\", \"5\", \"6\"], ordered=True)\n"
      ]
    },
    {
      "cell_type": "code",
      "execution_count": 4,
      "metadata": {},
      "outputs": [
        {
          "data": {
            "text/html": [
              "<div>\n",
              "<style scoped>\n",
              "    .dataframe tbody tr th:only-of-type {\n",
              "        vertical-align: middle;\n",
              "    }\n",
              "\n",
              "    .dataframe tbody tr th {\n",
              "        vertical-align: top;\n",
              "    }\n",
              "\n",
              "    .dataframe thead th {\n",
              "        text-align: right;\n",
              "    }\n",
              "</style>\n",
              "<table border=\"1\" class=\"dataframe\">\n",
              "  <thead>\n",
              "    <tr style=\"text-align: right;\">\n",
              "      <th></th>\n",
              "      <th>ESTRATO</th>\n",
              "      <th>EDAD</th>\n",
              "      <th>PROGRAMA</th>\n",
              "      <th>MATRICULAS</th>\n",
              "      <th>ESTATURA</th>\n",
              "      <th>PESO</th>\n",
              "    </tr>\n",
              "  </thead>\n",
              "  <tbody>\n",
              "    <tr>\n",
              "      <th>0</th>\n",
              "      <td>1</td>\n",
              "      <td>24</td>\n",
              "      <td>ADMINISTRACION</td>\n",
              "      <td>6</td>\n",
              "      <td>175.0</td>\n",
              "      <td>67.0</td>\n",
              "    </tr>\n",
              "    <tr>\n",
              "      <th>1</th>\n",
              "      <td>3</td>\n",
              "      <td>25</td>\n",
              "      <td>ADMINISTRACION</td>\n",
              "      <td>4</td>\n",
              "      <td>145.0</td>\n",
              "      <td>60.0</td>\n",
              "    </tr>\n",
              "    <tr>\n",
              "      <th>2</th>\n",
              "      <td>5</td>\n",
              "      <td>18</td>\n",
              "      <td>ECONOMIA</td>\n",
              "      <td>3</td>\n",
              "      <td>185.0</td>\n",
              "      <td>87.0</td>\n",
              "    </tr>\n",
              "    <tr>\n",
              "      <th>3</th>\n",
              "      <td>3</td>\n",
              "      <td>20</td>\n",
              "      <td>ECONOMIA</td>\n",
              "      <td>3</td>\n",
              "      <td>173.0</td>\n",
              "      <td>57.0</td>\n",
              "    </tr>\n",
              "    <tr>\n",
              "      <th>4</th>\n",
              "      <td>5</td>\n",
              "      <td>17</td>\n",
              "      <td>ADMINISTRACION</td>\n",
              "      <td>3</td>\n",
              "      <td>160.0</td>\n",
              "      <td>58.0</td>\n",
              "    </tr>\n",
              "    <tr>\n",
              "      <th>5</th>\n",
              "      <td>3</td>\n",
              "      <td>17</td>\n",
              "      <td>ECONOMIA</td>\n",
              "      <td>3</td>\n",
              "      <td>180.0</td>\n",
              "      <td>60.0</td>\n",
              "    </tr>\n",
              "    <tr>\n",
              "      <th>6</th>\n",
              "      <td>3</td>\n",
              "      <td>18</td>\n",
              "      <td>ECONOMIA</td>\n",
              "      <td>4</td>\n",
              "      <td>182.0</td>\n",
              "      <td>80.0</td>\n",
              "    </tr>\n",
              "    <tr>\n",
              "      <th>7</th>\n",
              "      <td>3</td>\n",
              "      <td>28</td>\n",
              "      <td>ADMINISTRACION</td>\n",
              "      <td>8</td>\n",
              "      <td>160.0</td>\n",
              "      <td>85.0</td>\n",
              "    </tr>\n",
              "    <tr>\n",
              "      <th>8</th>\n",
              "      <td>3</td>\n",
              "      <td>19</td>\n",
              "      <td>ECONOMIA</td>\n",
              "      <td>4</td>\n",
              "      <td>170.0</td>\n",
              "      <td>68.0</td>\n",
              "    </tr>\n",
              "    <tr>\n",
              "      <th>9</th>\n",
              "      <td>4</td>\n",
              "      <td>20</td>\n",
              "      <td>ECONOMIA</td>\n",
              "      <td>3</td>\n",
              "      <td>150.0</td>\n",
              "      <td>40.0</td>\n",
              "    </tr>\n",
              "    <tr>\n",
              "      <th>10</th>\n",
              "      <td>3</td>\n",
              "      <td>19</td>\n",
              "      <td>ECONOMIA</td>\n",
              "      <td>4</td>\n",
              "      <td>172.0</td>\n",
              "      <td>64.0</td>\n",
              "    </tr>\n",
              "    <tr>\n",
              "      <th>11</th>\n",
              "      <td>2</td>\n",
              "      <td>18</td>\n",
              "      <td>ECONOMIA</td>\n",
              "      <td>3</td>\n",
              "      <td>168.0</td>\n",
              "      <td>72.0</td>\n",
              "    </tr>\n",
              "    <tr>\n",
              "      <th>12</th>\n",
              "      <td>4</td>\n",
              "      <td>19</td>\n",
              "      <td>ADMINISTRACION</td>\n",
              "      <td>5</td>\n",
              "      <td>154.0</td>\n",
              "      <td>55.0</td>\n",
              "    </tr>\n",
              "    <tr>\n",
              "      <th>13</th>\n",
              "      <td>3</td>\n",
              "      <td>18</td>\n",
              "      <td>ADMINISTRACION</td>\n",
              "      <td>4</td>\n",
              "      <td>163.0</td>\n",
              "      <td>62.0</td>\n",
              "    </tr>\n",
              "    <tr>\n",
              "      <th>14</th>\n",
              "      <td>2</td>\n",
              "      <td>18</td>\n",
              "      <td>ECONOMIA</td>\n",
              "      <td>3</td>\n",
              "      <td>166.0</td>\n",
              "      <td>50.0</td>\n",
              "    </tr>\n",
              "  </tbody>\n",
              "</table>\n",
              "</div>"
            ],
            "text/plain": [
              "   ESTRATO  EDAD        PROGRAMA  MATRICULAS  ESTATURA  PESO\n",
              "0        1    24  ADMINISTRACION           6     175.0  67.0\n",
              "1        3    25  ADMINISTRACION           4     145.0  60.0\n",
              "2        5    18        ECONOMIA           3     185.0  87.0\n",
              "3        3    20        ECONOMIA           3     173.0  57.0\n",
              "4        5    17  ADMINISTRACION           3     160.0  58.0\n",
              "5        3    17        ECONOMIA           3     180.0  60.0\n",
              "6        3    18        ECONOMIA           4     182.0  80.0\n",
              "7        3    28  ADMINISTRACION           8     160.0  85.0\n",
              "8        3    19        ECONOMIA           4     170.0  68.0\n",
              "9        4    20        ECONOMIA           3     150.0  40.0\n",
              "10       3    19        ECONOMIA           4     172.0  64.0\n",
              "11       2    18        ECONOMIA           3     168.0  72.0\n",
              "12       4    19  ADMINISTRACION           5     154.0  55.0\n",
              "13       3    18  ADMINISTRACION           4     163.0  62.0\n",
              "14       2    18        ECONOMIA           3     166.0  50.0"
            ]
          },
          "execution_count": 4,
          "metadata": {},
          "output_type": "execute_result"
        }
      ],
      "source": [
        "# visualización de las primeras filas\n",
        "df.head(n=15)"
      ]
    },
    {
      "cell_type": "code",
      "execution_count": 5,
      "metadata": {},
      "outputs": [
        {
          "name": "stdout",
          "output_type": "stream",
          "text": [
            "<class 'pandas.core.frame.DataFrame'>\n",
            "RangeIndex: 79 entries, 0 to 78\n",
            "Data columns (total 6 columns):\n",
            " #   Column      Non-Null Count  Dtype   \n",
            "---  ------      --------------  -----   \n",
            " 0   ESTRATO     79 non-null     category\n",
            " 1   EDAD        79 non-null     int32   \n",
            " 2   PROGRAMA    79 non-null     category\n",
            " 3   MATRICULAS  79 non-null     int32   \n",
            " 4   ESTATURA    79 non-null     float64 \n",
            " 5   PESO        79 non-null     float64 \n",
            "dtypes: category(2), float64(2), int32(2)\n",
            "memory usage: 2.5 KB\n"
          ]
        }
      ],
      "source": [
        "# informacionm general del dataframe\n",
        "df.info()"
      ]
    },
    {
      "cell_type": "code",
      "execution_count": 6,
      "metadata": {},
      "outputs": [
        {
          "data": {
            "text/html": [
              "<div>\n",
              "<style scoped>\n",
              "    .dataframe tbody tr th:only-of-type {\n",
              "        vertical-align: middle;\n",
              "    }\n",
              "\n",
              "    .dataframe tbody tr th {\n",
              "        vertical-align: top;\n",
              "    }\n",
              "\n",
              "    .dataframe thead th {\n",
              "        text-align: right;\n",
              "    }\n",
              "</style>\n",
              "<table border=\"1\" class=\"dataframe\">\n",
              "  <thead>\n",
              "    <tr style=\"text-align: right;\">\n",
              "      <th></th>\n",
              "      <th>ESTRATO</th>\n",
              "      <th>PROGRAMA</th>\n",
              "    </tr>\n",
              "  </thead>\n",
              "  <tbody>\n",
              "    <tr>\n",
              "      <th>count</th>\n",
              "      <td>79</td>\n",
              "      <td>79</td>\n",
              "    </tr>\n",
              "    <tr>\n",
              "      <th>unique</th>\n",
              "      <td>6</td>\n",
              "      <td>3</td>\n",
              "    </tr>\n",
              "    <tr>\n",
              "      <th>top</th>\n",
              "      <td>3</td>\n",
              "      <td>ECONOMIA</td>\n",
              "    </tr>\n",
              "    <tr>\n",
              "      <th>freq</th>\n",
              "      <td>39</td>\n",
              "      <td>34</td>\n",
              "    </tr>\n",
              "  </tbody>\n",
              "</table>\n",
              "</div>"
            ],
            "text/plain": [
              "       ESTRATO  PROGRAMA\n",
              "count       79        79\n",
              "unique       6         3\n",
              "top          3  ECONOMIA\n",
              "freq        39        34"
            ]
          },
          "execution_count": 6,
          "metadata": {},
          "output_type": "execute_result"
        }
      ],
      "source": [
        "# descripcion del dataframe categoricas\n",
        "df.describe(include=['object', 'category'])"
      ]
    },
    {
      "cell_type": "code",
      "execution_count": 7,
      "metadata": {},
      "outputs": [
        {
          "data": {
            "text/html": [
              "<div>\n",
              "<style scoped>\n",
              "    .dataframe tbody tr th:only-of-type {\n",
              "        vertical-align: middle;\n",
              "    }\n",
              "\n",
              "    .dataframe tbody tr th {\n",
              "        vertical-align: top;\n",
              "    }\n",
              "\n",
              "    .dataframe thead th {\n",
              "        text-align: right;\n",
              "    }\n",
              "</style>\n",
              "<table border=\"1\" class=\"dataframe\">\n",
              "  <thead>\n",
              "    <tr style=\"text-align: right;\">\n",
              "      <th></th>\n",
              "      <th>EDAD</th>\n",
              "      <th>MATRICULAS</th>\n",
              "      <th>ESTATURA</th>\n",
              "      <th>PESO</th>\n",
              "    </tr>\n",
              "  </thead>\n",
              "  <tbody>\n",
              "    <tr>\n",
              "      <th>count</th>\n",
              "      <td>79.000000</td>\n",
              "      <td>79.000000</td>\n",
              "      <td>79.000000</td>\n",
              "      <td>79.000000</td>\n",
              "    </tr>\n",
              "    <tr>\n",
              "      <th>mean</th>\n",
              "      <td>21.012658</td>\n",
              "      <td>4.810127</td>\n",
              "      <td>169.607595</td>\n",
              "      <td>65.443038</td>\n",
              "    </tr>\n",
              "    <tr>\n",
              "      <th>std</th>\n",
              "      <td>4.146341</td>\n",
              "      <td>1.901929</td>\n",
              "      <td>10.082249</td>\n",
              "      <td>12.701450</td>\n",
              "    </tr>\n",
              "    <tr>\n",
              "      <th>min</th>\n",
              "      <td>17.000000</td>\n",
              "      <td>2.000000</td>\n",
              "      <td>145.000000</td>\n",
              "      <td>40.000000</td>\n",
              "    </tr>\n",
              "    <tr>\n",
              "      <th>25%</th>\n",
              "      <td>19.000000</td>\n",
              "      <td>3.000000</td>\n",
              "      <td>162.500000</td>\n",
              "      <td>57.000000</td>\n",
              "    </tr>\n",
              "    <tr>\n",
              "      <th>50%</th>\n",
              "      <td>20.000000</td>\n",
              "      <td>4.000000</td>\n",
              "      <td>170.000000</td>\n",
              "      <td>64.000000</td>\n",
              "    </tr>\n",
              "    <tr>\n",
              "      <th>75%</th>\n",
              "      <td>22.500000</td>\n",
              "      <td>6.000000</td>\n",
              "      <td>178.000000</td>\n",
              "      <td>71.000000</td>\n",
              "    </tr>\n",
              "    <tr>\n",
              "      <th>max</th>\n",
              "      <td>48.000000</td>\n",
              "      <td>9.000000</td>\n",
              "      <td>192.000000</td>\n",
              "      <td>120.000000</td>\n",
              "    </tr>\n",
              "  </tbody>\n",
              "</table>\n",
              "</div>"
            ],
            "text/plain": [
              "            EDAD  MATRICULAS    ESTATURA        PESO\n",
              "count  79.000000   79.000000   79.000000   79.000000\n",
              "mean   21.012658    4.810127  169.607595   65.443038\n",
              "std     4.146341    1.901929   10.082249   12.701450\n",
              "min    17.000000    2.000000  145.000000   40.000000\n",
              "25%    19.000000    3.000000  162.500000   57.000000\n",
              "50%    20.000000    4.000000  170.000000   64.000000\n",
              "75%    22.500000    6.000000  178.000000   71.000000\n",
              "max    48.000000    9.000000  192.000000  120.000000"
            ]
          },
          "execution_count": 7,
          "metadata": {},
          "output_type": "execute_result"
        }
      ],
      "source": [
        "# descripcion del dataframe numericas\n",
        "df.describe()"
      ]
    },
    {
      "cell_type": "code",
      "execution_count": 8,
      "metadata": {},
      "outputs": [
        {
          "data": {
            "image/png": "[encoded data removed]",
            "text/plain": [
              "<Figure size 640x480 with 1 Axes>"
            ]
          },
          "metadata": {},
          "output_type": "display_data"
        }
      ],
      "source": [
        "# Tabla de contingencia\n",
        "tabla_cont = pd.crosstab(df['ESTRATO'], df['PROGRAMA'])\n",
        "\n",
        "# Graficar barras apiladas\n",
        "tabla_cont.plot(kind='bar', stacked=True)\n",
        "plt.xlabel('ESTRATO')\n",
        "plt.ylabel('Cantidad')\n",
        "plt.title('Distribución de Estrato Socioeconómico por Programa Académico')\n",
        "plt.legend(title='PROGRAMA')\n",
        "plt.tight_layout()\n",
        "plt.show()"
      ]
    },
    {
      "cell_type": "code",
      "execution_count": 9,
      "metadata": {},
      "outputs": [
        {
          "data": {
            "text/html": [
              "<div>\n",
              "<style scoped>\n",
              "    .dataframe tbody tr th:only-of-type {\n",
              "        vertical-align: middle;\n",
              "    }\n",
              "\n",
              "    .dataframe tbody tr th {\n",
              "        vertical-align: top;\n",
              "    }\n",
              "\n",
              "    .dataframe thead th {\n",
              "        text-align: right;\n",
              "    }\n",
              "</style>\n",
              "<table border=\"1\" class=\"dataframe\">\n",
              "  <thead>\n",
              "    <tr style=\"text-align: right;\">\n",
              "      <th>PROGRAMA</th>\n",
              "      <th>ADMINISTRACION</th>\n",
              "      <th>CONTADURIA PUBLICA</th>\n",
              "      <th>ECONOMIA</th>\n",
              "      <th>TOTAL</th>\n",
              "    </tr>\n",
              "    <tr>\n",
              "      <th>ESTRATO</th>\n",
              "      <th></th>\n",
              "      <th></th>\n",
              "      <th></th>\n",
              "      <th></th>\n",
              "    </tr>\n",
              "  </thead>\n",
              "  <tbody>\n",
              "    <tr>\n",
              "      <th>1</th>\n",
              "      <td>3</td>\n",
              "      <td>1</td>\n",
              "      <td>1</td>\n",
              "      <td>5</td>\n",
              "    </tr>\n",
              "    <tr>\n",
              "      <th>2</th>\n",
              "      <td>4</td>\n",
              "      <td>5</td>\n",
              "      <td>8</td>\n",
              "      <td>17</td>\n",
              "    </tr>\n",
              "    <tr>\n",
              "      <th>3</th>\n",
              "      <td>12</td>\n",
              "      <td>10</td>\n",
              "      <td>17</td>\n",
              "      <td>39</td>\n",
              "    </tr>\n",
              "    <tr>\n",
              "      <th>4</th>\n",
              "      <td>8</td>\n",
              "      <td>0</td>\n",
              "      <td>7</td>\n",
              "      <td>15</td>\n",
              "    </tr>\n",
              "    <tr>\n",
              "      <th>5</th>\n",
              "      <td>1</td>\n",
              "      <td>0</td>\n",
              "      <td>1</td>\n",
              "      <td>2</td>\n",
              "    </tr>\n",
              "    <tr>\n",
              "      <th>6</th>\n",
              "      <td>1</td>\n",
              "      <td>0</td>\n",
              "      <td>0</td>\n",
              "      <td>1</td>\n",
              "    </tr>\n",
              "    <tr>\n",
              "      <th>TOTAL</th>\n",
              "      <td>29</td>\n",
              "      <td>16</td>\n",
              "      <td>34</td>\n",
              "      <td>79</td>\n",
              "    </tr>\n",
              "  </tbody>\n",
              "</table>\n",
              "</div>"
            ],
            "text/plain": [
              "PROGRAMA  ADMINISTRACION  CONTADURIA PUBLICA  ECONOMIA  TOTAL\n",
              "ESTRATO                                                      \n",
              "1                      3                   1         1      5\n",
              "2                      4                   5         8     17\n",
              "3                     12                  10        17     39\n",
              "4                      8                   0         7     15\n",
              "5                      1                   0         1      2\n",
              "6                      1                   0         0      1\n",
              "TOTAL                 29                  16        34     79"
            ]
          },
          "execution_count": 9,
          "metadata": {},
          "output_type": "execute_result"
        }
      ],
      "source": [
        "# Mostrar la tabla de contigencia\n",
        "pd.crosstab(df['ESTRATO'], df['PROGRAMA'], margins=True, margins_name=\"TOTAL\")"
      ]
    },
    {
      "cell_type": "markdown",
      "metadata": {},
      "source": []
    },
    {
      "cell_type": "code",
      "execution_count": 10,
      "metadata": {
        "colab": {
          "base_uri": "https://localhost:8080/"
        },
        "id": "ZGQ_YsSfTuoe",
        "outputId": "6ae6ed1e-b956-4efa-d220-eae61759377c"
      },
      "outputs": [
        {
          "name": "stdout",
          "output_type": "stream",
          "text": [
            "---\n",
            "El estadístico Chi-square para la tabla de contingencia es: 10.326\n",
            "---\n",
            "Los grados de libertad (r-1)(k-1) de la tabla de contingencia es: 10\n",
            "---\n",
            "La matriz de valores esperados E_ij es:\n",
            "[[ 1.84  1.01  2.15]\n",
            " [ 6.24  3.44  7.32]\n",
            " [14.32  7.9  16.78]\n",
            " [ 5.51  3.04  6.46]\n",
            " [ 0.73  0.41  0.86]\n",
            " [ 0.37  0.2   0.43]]\n",
            "P-Valor para el estadístico: 0.412\n"
          ]
        }
      ],
      "source": [
        "############\n",
        "# V cramer #\n",
        "############\n",
        "\n",
        "# Estadístico chi-cuadrado\n",
        "chi2_value, p, dof, expected = chi2_contingency(tabla_cont)\n",
        "\n",
        "print(\"---\")\n",
        "print(f\"El estadístico Chi-square para la tabla de contingencia es: {chi2_value:.3f}\")\n",
        "print(\"---\")\n",
        "print(f\"Los grados de libertad (r-1)(k-1) de la tabla de contingencia es: {dof}\")\n",
        "print(\"---\")\n",
        "print(f\"La matriz de valores esperados E_ij es:\")\n",
        "print(np.round(expected,2))\n",
        "print(f\"P-Valor para el estadístico: {p:.3f}\")\n"
      ]
    },
    {
      "cell_type": "code",
      "execution_count": 11,
      "metadata": {},
      "outputs": [
        {
          "name": "stdout",
          "output_type": "stream",
          "text": [
            "V de Cramér: 0.256\n"
          ]
        }
      ],
      "source": [
        "# Cálculo de V de Cramér\n",
        "n = tabla_cont.sum().sum()\n",
        "min_dim = min(tabla_cont.shape) - 1\n",
        "v_cramer = np.sqrt(chi2_value / (n * min_dim))\n",
        "print(f\"V de Cramér: {v_cramer:.3f}\")"
      ]
    },
    {
      "cell_type": "code",
      "execution_count": 12,
      "metadata": {},
      "outputs": [
        {
          "data": {
            "image/png": "[encoded data removed]",
            "text/plain": [
              "<Figure size 640x480 with 1 Axes>"
            ]
          },
          "metadata": {},
          "output_type": "display_data"
        }
      ],
      "source": [
        "# Mostrar la distribución Chi square\n",
        "import numpy as np\n",
        "import matplotlib.pyplot as plt\n",
        "from scipy.stats import chi2\n",
        "\n",
        "# Rango de valores en el eje x\n",
        "x = np.linspace(0, 30, 500)\n",
        "\n",
        "# Calcular la densidad\n",
        "pdf = chi2.pdf(x, dof)\n",
        "\n",
        "# Graficar\n",
        "plt.plot(x, pdf, label=f'Chi-cuadrado (df={dof})')\n",
        "plt.axvline(x=chi2_value, color='red', linestyle='--', label=f'Estadístico = {chi2_value:.3f}')\n",
        "plt.title('Distribución Chi-cuadrado')\n",
        "plt.xlabel('x')\n",
        "plt.ylabel('Densidad')\n",
        "plt.legend()\n",
        "plt.grid(True)\n",
        "plt.show()\n"
      ]
    },
    {
      "cell_type": "markdown",
      "metadata": {},
      "source": [
        "# Coeficiente $\\phi$\n",
        "\n",
        "El coeficiente $\\phi$ se define para una tabla de contigencia de **2** variables binarias:\n",
        "\n",
        "La tabla de contigencia de las variables binarias A y B:\n",
        "\n",
        "|               | B = 1 | B = 0 | Total       |\n",
        "|---------------|-------|-------|-------------|\n",
        "| A = 1         |   a   |   b   | a + b       |\n",
        "| A = 0         |   c   |   d   | c + d       |\n",
        "| **Total**     | a + c | b + d | n = a+b+c+d |\n",
        "\n",
        "\n",
        "---\n",
        "\n",
        "El coeficiente $\\phi$ se define asi:\n",
        "\n",
        "$$\\phi = \\frac{|ad - bc|}{\\sqrt{(a+b)(c+d)(a+c)(b+d)}}$$\n",
        "\n",
        "---\n",
        "\n",
        "Para probar la significancia se usa el estadístico $\\chi^{2}$ pero usando la corrección de **YATES** o de tambien llamada corrección de **continuidad**.\n",
        "\n",
        "$$\n",
        "\\begin{align*}\n",
        "    \\chi_{Yates}^{2} =& \\sum_{i,j}\\frac{\\left(|O_{ij} - E_{ij}| - \\frac{n}{2}\\right)^{2}}{E_{ij}} \\\\\n",
        "    \\chi_{Yates}^{2} =& \\frac{n(|ad - bc| - \\frac{n}{2})^{2}}{(a+b)(c+d)(a+c)(b+d)}\n",
        "\\end{align*}\n",
        "$$"
      ]
    },
    {
      "cell_type": "markdown",
      "metadata": {},
      "source": [
        "## Ejemplo\n",
        "\n",
        "Datos de factores socioeconómicos\n",
        "\n",
        "**Descarga aquí**: [https://www.kaggle.com/datasets/aldol07/socioeconomic-factors-and-income-dataset](https://www.kaggle.com/datasets/aldol07/socioeconomic-factors-and-income-dataset)"
      ]
    },
    {
      "cell_type": "code",
      "execution_count": 13,
      "metadata": {},
      "outputs": [
        {
          "name": "stderr",
          "output_type": "stream",
          "text": [
            "/tmp/ipykernel_41088/3384342009.py:2: DeprecationWarning: load_dataset is deprecated and will be removed in a future version.\n",
            "  df_ka = kagglehub.load_dataset(\n"
          ]
        }
      ],
      "source": [
        "# datos kaggle\n",
        "df_ka = kagglehub.load_dataset(\n",
        "    KaggleDatasetAdapter.PANDAS,\n",
        "    \"aldol07/socioeconomic-factors-and-income-dataset\",\n",
        "    \"sgdata.csv\"\n",
        ")"
      ]
    },
    {
      "cell_type": "code",
      "execution_count": 14,
      "metadata": {},
      "outputs": [
        {
          "name": "stdout",
          "output_type": "stream",
          "text": [
            "{'single': 0, 'non-single (divorced / separated / married / widowed)': 1}\n",
            "{0: 0, 1: 1}\n"
          ]
        }
      ],
      "source": [
        "# paso a variables binarias\n",
        "# 0 female 1 male\n",
        "marital_values = df_ka[\"Marital status\"].unique()\n",
        "marital_dict = {marital_values[0]:0, marital_values[1]:1}\n",
        "print(marital_dict)\n",
        "sex_values = df_ka[\"Sex\"].unique()\n",
        "sex_dict = {sex_values[0]:0, sex_values[1]:1}\n",
        "print(sex_dict)\n",
        "df_ka[\"sex_bin\"] = df_ka[\"Sex\"].map(sex_dict).astype('category')\n",
        "df_ka[\"marital_bin\"] = df_ka[\"Marital status\"].map(marital_dict).astype('category')"
      ]
    },
    {
      "cell_type": "code",
      "execution_count": 15,
      "metadata": {},
      "outputs": [
        {
          "data": {
            "text/html": [
              "<div>\n",
              "<style scoped>\n",
              "    .dataframe tbody tr th:only-of-type {\n",
              "        vertical-align: middle;\n",
              "    }\n",
              "\n",
              "    .dataframe tbody tr th {\n",
              "        vertical-align: top;\n",
              "    }\n",
              "\n",
              "    .dataframe thead th {\n",
              "        text-align: right;\n",
              "    }\n",
              "</style>\n",
              "<table border=\"1\" class=\"dataframe\">\n",
              "  <thead>\n",
              "    <tr style=\"text-align: right;\">\n",
              "      <th></th>\n",
              "      <th>ID</th>\n",
              "      <th>Sex</th>\n",
              "      <th>Marital status</th>\n",
              "      <th>Age</th>\n",
              "      <th>Education</th>\n",
              "      <th>Income</th>\n",
              "      <th>Occupation</th>\n",
              "      <th>Settlement size</th>\n",
              "      <th>sex_bin</th>\n",
              "      <th>marital_bin</th>\n",
              "    </tr>\n",
              "  </thead>\n",
              "  <tbody>\n",
              "    <tr>\n",
              "      <th>0</th>\n",
              "      <td>100000001</td>\n",
              "      <td>0</td>\n",
              "      <td>single</td>\n",
              "      <td>67</td>\n",
              "      <td>university</td>\n",
              "      <td>124670</td>\n",
              "      <td>skilled employee / official</td>\n",
              "      <td>2</td>\n",
              "      <td>0</td>\n",
              "      <td>0</td>\n",
              "    </tr>\n",
              "    <tr>\n",
              "      <th>1</th>\n",
              "      <td>100000002</td>\n",
              "      <td>1</td>\n",
              "      <td>non-single (divorced / separated / married / w...</td>\n",
              "      <td>22</td>\n",
              "      <td>high school</td>\n",
              "      <td>150773</td>\n",
              "      <td>skilled employee / official</td>\n",
              "      <td>2</td>\n",
              "      <td>1</td>\n",
              "      <td>1</td>\n",
              "    </tr>\n",
              "    <tr>\n",
              "      <th>2</th>\n",
              "      <td>100000003</td>\n",
              "      <td>0</td>\n",
              "      <td>single</td>\n",
              "      <td>49</td>\n",
              "      <td>high school</td>\n",
              "      <td>89210</td>\n",
              "      <td>unemployed / unskilled</td>\n",
              "      <td>0</td>\n",
              "      <td>0</td>\n",
              "      <td>0</td>\n",
              "    </tr>\n",
              "    <tr>\n",
              "      <th>3</th>\n",
              "      <td>100000004</td>\n",
              "      <td>0</td>\n",
              "      <td>single</td>\n",
              "      <td>45</td>\n",
              "      <td>high school</td>\n",
              "      <td>171565</td>\n",
              "      <td>skilled employee / official</td>\n",
              "      <td>1</td>\n",
              "      <td>0</td>\n",
              "      <td>0</td>\n",
              "    </tr>\n",
              "    <tr>\n",
              "      <th>4</th>\n",
              "      <td>100000005</td>\n",
              "      <td>0</td>\n",
              "      <td>single</td>\n",
              "      <td>53</td>\n",
              "      <td>high school</td>\n",
              "      <td>149031</td>\n",
              "      <td>skilled employee / official</td>\n",
              "      <td>1</td>\n",
              "      <td>0</td>\n",
              "      <td>0</td>\n",
              "    </tr>\n",
              "  </tbody>\n",
              "</table>\n",
              "</div>"
            ],
            "text/plain": [
              "          ID  Sex                                     Marital status  Age  \\\n",
              "0  100000001    0                                             single   67   \n",
              "1  100000002    1  non-single (divorced / separated / married / w...   22   \n",
              "2  100000003    0                                             single   49   \n",
              "3  100000004    0                                             single   45   \n",
              "4  100000005    0                                             single   53   \n",
              "\n",
              "     Education  Income                   Occupation  Settlement size sex_bin  \\\n",
              "0   university  124670  skilled employee / official                2       0   \n",
              "1  high school  150773  skilled employee / official                2       1   \n",
              "2  high school   89210       unemployed / unskilled                0       0   \n",
              "3  high school  171565  skilled employee / official                1       0   \n",
              "4  high school  149031  skilled employee / official                1       0   \n",
              "\n",
              "  marital_bin  \n",
              "0           0  \n",
              "1           1  \n",
              "2           0  \n",
              "3           0  \n",
              "4           0  "
            ]
          },
          "execution_count": 15,
          "metadata": {},
          "output_type": "execute_result"
        }
      ],
      "source": [
        "df_ka.head()"
      ]
    },
    {
      "cell_type": "code",
      "execution_count": 16,
      "metadata": {},
      "outputs": [
        {
          "data": {
            "text/plain": [
              "ID                    int64\n",
              "Sex                   int64\n",
              "Marital status       object\n",
              "Age                   int64\n",
              "Education            object\n",
              "Income                int64\n",
              "Occupation           object\n",
              "Settlement size       int64\n",
              "sex_bin            category\n",
              "marital_bin        category\n",
              "dtype: object"
            ]
          },
          "execution_count": 16,
          "metadata": {},
          "output_type": "execute_result"
        }
      ],
      "source": [
        "df_ka.dtypes"
      ]
    },
    {
      "cell_type": "code",
      "execution_count": 17,
      "metadata": {},
      "outputs": [
        {
          "data": {
            "text/html": [
              "<div>\n",
              "<style scoped>\n",
              "    .dataframe tbody tr th:only-of-type {\n",
              "        vertical-align: middle;\n",
              "    }\n",
              "\n",
              "    .dataframe tbody tr th {\n",
              "        vertical-align: top;\n",
              "    }\n",
              "\n",
              "    .dataframe thead th {\n",
              "        text-align: right;\n",
              "    }\n",
              "</style>\n",
              "<table border=\"1\" class=\"dataframe\">\n",
              "  <thead>\n",
              "    <tr style=\"text-align: right;\">\n",
              "      <th>sex_bin</th>\n",
              "      <th>0</th>\n",
              "      <th>1</th>\n",
              "      <th>TOTAL</th>\n",
              "    </tr>\n",
              "    <tr>\n",
              "      <th>marital_bin</th>\n",
              "      <th></th>\n",
              "      <th></th>\n",
              "      <th></th>\n",
              "    </tr>\n",
              "  </thead>\n",
              "  <tbody>\n",
              "    <tr>\n",
              "      <th>0</th>\n",
              "      <td>829</td>\n",
              "      <td>178</td>\n",
              "      <td>1007</td>\n",
              "    </tr>\n",
              "    <tr>\n",
              "      <th>1</th>\n",
              "      <td>257</td>\n",
              "      <td>736</td>\n",
              "      <td>993</td>\n",
              "    </tr>\n",
              "    <tr>\n",
              "      <th>TOTAL</th>\n",
              "      <td>1086</td>\n",
              "      <td>914</td>\n",
              "      <td>2000</td>\n",
              "    </tr>\n",
              "  </tbody>\n",
              "</table>\n",
              "</div>"
            ],
            "text/plain": [
              "sex_bin         0    1  TOTAL\n",
              "marital_bin                  \n",
              "0             829  178   1007\n",
              "1             257  736    993\n",
              "TOTAL        1086  914   2000"
            ]
          },
          "execution_count": 17,
          "metadata": {},
          "output_type": "execute_result"
        }
      ],
      "source": [
        "# tabla contigencia\n",
        "pd.crosstab(df_ka[\"marital_bin\"], df_ka[\"sex_bin\"], margins=True, margins_name=\"TOTAL\")"
      ]
    },
    {
      "cell_type": "code",
      "execution_count": 18,
      "metadata": {},
      "outputs": [
        {
          "name": "stdout",
          "output_type": "stream",
          "text": [
            "Chi-Cuadrado: 639.5962\n",
            "Valor-p: 4.09e-141\n",
            "Grados de libertad: 1\n"
          ]
        }
      ],
      "source": [
        "tabla_ka_cont = pd.crosstab(df_ka[\"marital_bin\"], df_ka[\"sex_bin\"])\n",
        "\n",
        "# Prueba chi-cuadrado\n",
        "chi2_corr, p_corr, dof_corr, expected_corr= chi2_contingency(tabla_ka_cont, correction=True)\n",
        "\n",
        "print(f\"Chi-Cuadrado: {chi2_corr:.4f}\")\n",
        "print(f\"Valor-p: {p_corr:.4g}\")\n",
        "print(f\"Grados de libertad: {dof_corr}\")\n"
      ]
    },
    {
      "cell_type": "code",
      "execution_count": 19,
      "metadata": {},
      "outputs": [
        {
          "data": {
            "image/png": "[encoded data removed]",
            "text/plain": [
              "<Figure size 640x480 with 1 Axes>"
            ]
          },
          "metadata": {},
          "output_type": "display_data"
        }
      ],
      "source": [
        "\n",
        "# Graficar barras apiladas\n",
        "tabla_ka_cont.plot(kind='bar', stacked=True)\n",
        "plt.xlabel('Marital Status')\n",
        "plt.ylabel('Cantidad')\n",
        "plt.title('Distribución de Marital Status por Sex')\n",
        "plt.legend(title='Sex')\n",
        "plt.tight_layout()\n",
        "plt.show()"
      ]
    },
    {
      "cell_type": "code",
      "execution_count": 20,
      "metadata": {},
      "outputs": [
        {
          "name": "stdout",
          "output_type": "stream",
          "text": [
            "Coeficiente phi: 0.5665\n"
          ]
        }
      ],
      "source": [
        "phi = phi = matthews_corrcoef(df_ka[\"marital_bin\"].cat.codes, df_ka[\"sex_bin\"].cat.codes)\n",
        "print(f\"Coeficiente phi: {phi:.4f}\")"
      ]
    },
    {
      "cell_type": "code",
      "execution_count": 21,
      "metadata": {},
      "outputs": [
        {
          "data": {
            "image/png": "[encoded data removed]",
            "text/plain": [
              "<Figure size 640x480 with 1 Axes>"
            ]
          },
          "metadata": {},
          "output_type": "display_data"
        }
      ],
      "source": [
        "# Rango de valores en el eje x\n",
        "x = np.linspace(0, 700, 100)\n",
        "\n",
        "# Calcular la densidad\n",
        "pdf = chi2.pdf(x, dof_corr)\n",
        "\n",
        "# Graficar\n",
        "plt.plot(x, pdf, label=f'Chi-cuadrado (df={dof_corr})')\n",
        "plt.axvline(x=chi2_corr, color='red', linestyle='--', label=f'Estadístico = {chi2_corr:.3f}')\n",
        "plt.title('Distribución Chi-cuadrado')\n",
        "plt.xlabel('x')\n",
        "plt.ylabel('Densidad')\n",
        "plt.legend()\n",
        "plt.grid(True)\n",
        "plt.show()\n"
      ]
    }
  ],
  "metadata": {
    "colab": {
      "provenance": []
    },
    "kernelspec": {
      "display_name": "data_base",
      "language": "python",
      "name": "python3"
    },
    "language_info": {
      "codemirror_mode": {
        "name": "ipython",
        "version": 3
      },
      "file_extension": ".py",
      "mimetype": "text/x-python",
      "name": "python",
      "nbconvert_exporter": "python",
      "pygments_lexer": "ipython3",
      "version": "3.12.7"
    }
  },
  "nbformat": 4,
  "nbformat_minor": 0
}
